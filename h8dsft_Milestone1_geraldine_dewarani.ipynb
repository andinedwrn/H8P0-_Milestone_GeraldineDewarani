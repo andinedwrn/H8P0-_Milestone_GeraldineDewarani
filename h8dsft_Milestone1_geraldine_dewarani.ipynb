{
  "nbformat": 4,
  "nbformat_minor": 0,
  "metadata": {
    "colab": {
      "provenance": [],
      "toc_visible": true
    },
    "kernelspec": {
      "name": "python3",
      "display_name": "Python 3"
    },
    "language_info": {
      "name": "python"
    }
  },
  "cells": [
    {
      "cell_type": "markdown",
      "source": [
        "# INTRODUCTION"
      ],
      "metadata": {
        "id": "aoxYThIhEU_A"
      }
    },
    {
      "cell_type": "markdown",
      "source": [
        "Nama : Geraldine Dewarani\n",
        "\n",
        "Batch : RMT-019\n",
        "\n",
        "DASHBOARD LINK : [https://public.tableau.com/views/newyork_airbnb_geraldinedewarani/Dashboard1?:language=en-US&publish=yes)%5D&:display_count=n&:origin=viz_share_link]"
      ],
      "metadata": {
        "id": "ewO6Cng3E6tC"
      }
    },
    {
      "cell_type": "markdown",
      "source": [
        "# PROBLEM IDENTIFICATION"
      ],
      "metadata": {
        "id": "nMyBQygdEXzH"
      }
    },
    {
      "cell_type": "markdown",
      "source": [
        "## SMART Problem Statement : "
      ],
      "metadata": {
        "id": "ru2PDcCjLReS"
      }
    },
    {
      "cell_type": "markdown",
      "source": [
        "This study seeks to determine the variables impacting the pricing of Airbnb listings in New York City. By examining the links between price and several listing features such neighborhood, room type, minimum nights, and number of reviews, \n",
        "\n",
        "Penelitian ini bertujuan untuk menentukan variabel yang memengaruhi penetapan harga penginapan dibawah merek Airbnb di New York City. penentuan harga dilakukan dengan memeriksa hubungan antara harga dan beberapa fitur didalamnya seperti lingkungan, tipe kamar, malam minimum, dan jumlah ulasan. "
      ],
      "metadata": {
        "id": "2TrDWgJaGNOw"
      }
    },
    {
      "cell_type": "markdown",
      "source": [
        "## SMART Problem Description "
      ],
      "metadata": {
        "id": "IcNgksF1KHoM"
      }
    },
    {
      "cell_type": "markdown",
      "source": [
        "SMART :\n",
        "\n",
        "\n",
        "1. Specific: Identify the factors that influence the price of Airbnb listings in New York City.\n",
        "2. Measurable: Analyze the relationship between the price of Airbnb listings and variables such as neighborhood, room type, minimum nights, and number of reviews.\n",
        "3. Achievable: This problem statement can be addressed by using a dataset containing information on various attributes of Airbnb listings in New York City.\n",
        "4. Relevant: Understanding the factors that influence the price of Airbnb listings in New York City can help hosts optimize their listings and improve their pricing strategies, as well as help potential guests make informed decisions when selecting a place to stay.\n",
        "5. Time-bound: The analysis will be conducted within a reasonable time frame, taking into account the size of the dataset and the complexity of the analysis required.\n"
      ],
      "metadata": {
        "id": "SkiGhrmOKXk2"
      }
    },
    {
      "cell_type": "markdown",
      "source": [
        "## 5W + 1H Problem Description "
      ],
      "metadata": {
        "id": "KSVEciZULXW1"
      }
    },
    {
      "cell_type": "markdown",
      "source": [
        "1. What is the distribution of Airbnb listings in New York City based on neighborhood and room type?\n",
        "2. When is the busiest time of the year for Airbnb listings in New York City based on number of reviews and reviews per month?\n",
        "3. Where are the most expensive Airbnb listings located in New York City based on neighborhood and room type?\n",
        "4. Who are the top hosts in New York City based on the number of listings and calculated host listings count?\n",
        "5. How are the prices of Airbnb listings in New York City distributed based on statistical measures ?\n",
        "6. Is there a significant difference in Airbnb listing prices between neighborhoods in New York City ?"
      ],
      "metadata": {
        "id": "GN04jYR6LlRr"
      }
    },
    {
      "cell_type": "markdown",
      "source": [
        "# DATA LOADING"
      ],
      "metadata": {
        "id": "AiT4uffHEau3"
      }
    },
    {
      "cell_type": "markdown",
      "source": [
        "## Import Library"
      ],
      "metadata": {
        "id": "KzhSpvubNxmC"
      }
    },
    {
      "cell_type": "code",
      "source": [
        "#import library \n",
        "!pip install pandas\n",
        "!pip install numpy\n",
        "!pip install matplotlib\n",
        "!pip install matplotlib.pyplot"
      ],
      "metadata": {
        "colab": {
          "base_uri": "https://localhost:8080/"
        },
        "id": "zK5sB5waNeqo",
        "outputId": "ebccd9ce-bcc8-47ce-8dda-6eb99a16edbf"
      },
      "execution_count": 1,
      "outputs": [
        {
          "output_type": "stream",
          "name": "stdout",
          "text": [
            "Looking in indexes: https://pypi.org/simple, https://us-python.pkg.dev/colab-wheels/public/simple/\n",
            "Requirement already satisfied: pandas in /usr/local/lib/python3.9/dist-packages (1.5.3)\n",
            "Requirement already satisfied: numpy>=1.20.3 in /usr/local/lib/python3.9/dist-packages (from pandas) (1.22.4)\n",
            "Requirement already satisfied: python-dateutil>=2.8.1 in /usr/local/lib/python3.9/dist-packages (from pandas) (2.8.2)\n",
            "Requirement already satisfied: pytz>=2020.1 in /usr/local/lib/python3.9/dist-packages (from pandas) (2022.7.1)\n",
            "Requirement already satisfied: six>=1.5 in /usr/local/lib/python3.9/dist-packages (from python-dateutil>=2.8.1->pandas) (1.16.0)\n",
            "Looking in indexes: https://pypi.org/simple, https://us-python.pkg.dev/colab-wheels/public/simple/\n",
            "Requirement already satisfied: numpy in /usr/local/lib/python3.9/dist-packages (1.22.4)\n",
            "Looking in indexes: https://pypi.org/simple, https://us-python.pkg.dev/colab-wheels/public/simple/\n",
            "Requirement already satisfied: matplotlib in /usr/local/lib/python3.9/dist-packages (3.7.1)\n",
            "Requirement already satisfied: pyparsing>=2.3.1 in /usr/local/lib/python3.9/dist-packages (from matplotlib) (3.0.9)\n",
            "Requirement already satisfied: cycler>=0.10 in /usr/local/lib/python3.9/dist-packages (from matplotlib) (0.11.0)\n",
            "Requirement already satisfied: contourpy>=1.0.1 in /usr/local/lib/python3.9/dist-packages (from matplotlib) (1.0.7)\n",
            "Requirement already satisfied: fonttools>=4.22.0 in /usr/local/lib/python3.9/dist-packages (from matplotlib) (4.39.3)\n",
            "Requirement already satisfied: importlib-resources>=3.2.0 in /usr/local/lib/python3.9/dist-packages (from matplotlib) (5.12.0)\n",
            "Requirement already satisfied: kiwisolver>=1.0.1 in /usr/local/lib/python3.9/dist-packages (from matplotlib) (1.4.4)\n",
            "Requirement already satisfied: numpy>=1.20 in /usr/local/lib/python3.9/dist-packages (from matplotlib) (1.22.4)\n",
            "Requirement already satisfied: python-dateutil>=2.7 in /usr/local/lib/python3.9/dist-packages (from matplotlib) (2.8.2)\n",
            "Requirement already satisfied: packaging>=20.0 in /usr/local/lib/python3.9/dist-packages (from matplotlib) (23.0)\n",
            "Requirement already satisfied: pillow>=6.2.0 in /usr/local/lib/python3.9/dist-packages (from matplotlib) (8.4.0)\n",
            "Requirement already satisfied: zipp>=3.1.0 in /usr/local/lib/python3.9/dist-packages (from importlib-resources>=3.2.0->matplotlib) (3.15.0)\n",
            "Requirement already satisfied: six>=1.5 in /usr/local/lib/python3.9/dist-packages (from python-dateutil>=2.7->matplotlib) (1.16.0)\n",
            "Looking in indexes: https://pypi.org/simple, https://us-python.pkg.dev/colab-wheels/public/simple/\n",
            "\u001b[31mERROR: Could not find a version that satisfies the requirement matplotlib.pyplot (from versions: none)\u001b[0m\u001b[31m\n",
            "\u001b[0m\u001b[31mERROR: No matching distribution found for matplotlib.pyplot\u001b[0m\u001b[31m\n",
            "\u001b[0m"
          ]
        }
      ]
    },
    {
      "cell_type": "code",
      "source": [
        "import pandas as pd\n",
        "import numpy as np\n",
        "import matplotlib\n",
        "import matplotlib.pyplot as plt\n",
        "import seaborn as sns\n",
        "from scipy import stats"
      ],
      "metadata": {
        "id": "HTx3NFLsNr6f"
      },
      "execution_count": 2,
      "outputs": []
    },
    {
      "cell_type": "markdown",
      "source": [
        "## Data Loading"
      ],
      "metadata": {
        "id": "8m_3OSvuN3Lh"
      }
    },
    {
      "cell_type": "code",
      "source": [
        "#Mount data from gdrive to colab\n",
        "from google.colab import drive\n",
        "drive.mount('/content/drive')"
      ],
      "metadata": {
        "colab": {
          "base_uri": "https://localhost:8080/"
        },
        "id": "6L1FuHN1OAP5",
        "outputId": "e3930db3-0c1f-4ac0-a99e-ceab4a67ef9e"
      },
      "execution_count": 3,
      "outputs": [
        {
          "output_type": "stream",
          "name": "stdout",
          "text": [
            "Mounted at /content/drive\n"
          ]
        }
      ]
    },
    {
      "cell_type": "code",
      "source": [
        "#Importing Data SET\n",
        "df = pd.read_csv('/content/drive/MyDrive/GC-H8/AB_NYC_2019.csv')"
      ],
      "metadata": {
        "id": "iNkXoiepOYpV"
      },
      "execution_count": 4,
      "outputs": []
    },
    {
      "cell_type": "markdown",
      "source": [
        "**This data was retrieved at kaggle **\n",
        "\n",
        "Reference :      \n",
        "DGOMONOV. (2019).New York City Airbnb Open Data (Version 3) [Data set]. https://www.kaggle.com/code/dgomonov/data-exploration-on-nyc-airbnb/input"
      ],
      "metadata": {
        "id": "C7QzydRBJ4bN"
      }
    },
    {
      "cell_type": "code",
      "source": [
        "df.info()"
      ],
      "metadata": {
        "colab": {
          "base_uri": "https://localhost:8080/"
        },
        "id": "oxdrqB8MOnwL",
        "outputId": "a093fbfa-c004-4d44-80ab-32a378c77ad7"
      },
      "execution_count": 5,
      "outputs": [
        {
          "output_type": "stream",
          "name": "stdout",
          "text": [
            "<class 'pandas.core.frame.DataFrame'>\n",
            "RangeIndex: 48895 entries, 0 to 48894\n",
            "Data columns (total 16 columns):\n",
            " #   Column                          Non-Null Count  Dtype  \n",
            "---  ------                          --------------  -----  \n",
            " 0   id                              48895 non-null  int64  \n",
            " 1   name                            48879 non-null  object \n",
            " 2   host_id                         48895 non-null  int64  \n",
            " 3   host_name                       48874 non-null  object \n",
            " 4   neighbourhood_group             48895 non-null  object \n",
            " 5   neighbourhood                   48895 non-null  object \n",
            " 6   latitude                        48895 non-null  float64\n",
            " 7   longitude                       48895 non-null  float64\n",
            " 8   room_type                       48895 non-null  object \n",
            " 9   price                           48895 non-null  int64  \n",
            " 10  minimum_nights                  48895 non-null  int64  \n",
            " 11  number_of_reviews               48895 non-null  int64  \n",
            " 12  last_review                     38843 non-null  object \n",
            " 13  reviews_per_month               38843 non-null  float64\n",
            " 14  calculated_host_listings_count  48895 non-null  int64  \n",
            " 15  availability_365                48895 non-null  int64  \n",
            "dtypes: float64(3), int64(7), object(6)\n",
            "memory usage: 6.0+ MB\n"
          ]
        }
      ]
    },
    {
      "cell_type": "code",
      "source": [
        "df"
      ],
      "metadata": {
        "colab": {
          "base_uri": "https://localhost:8080/",
          "height": 0
        },
        "id": "_Sg0Ws4MOsJ3",
        "outputId": "1babce94-e478-467a-dd54-a10cfd4139a4"
      },
      "execution_count": 6,
      "outputs": [
        {
          "output_type": "execute_result",
          "data": {
            "text/plain": [
              "             id                                               name   host_id  \\\n",
              "0          2539                 Clean & quiet apt home by the park      2787   \n",
              "1          2595                              Skylit Midtown Castle      2845   \n",
              "2          3647                THE VILLAGE OF HARLEM....NEW YORK !      4632   \n",
              "3          3831                    Cozy Entire Floor of Brownstone      4869   \n",
              "4          5022   Entire Apt: Spacious Studio/Loft by central park      7192   \n",
              "...         ...                                                ...       ...   \n",
              "48890  36484665    Charming one bedroom - newly renovated rowhouse   8232441   \n",
              "48891  36485057      Affordable room in Bushwick/East Williamsburg   6570630   \n",
              "48892  36485431            Sunny Studio at Historical Neighborhood  23492952   \n",
              "48893  36485609               43rd St. Time Square-cozy single bed  30985759   \n",
              "48894  36487245  Trendy duplex in the very heart of Hell's Kitchen  68119814   \n",
              "\n",
              "           host_name neighbourhood_group       neighbourhood  latitude  \\\n",
              "0               John            Brooklyn          Kensington  40.64749   \n",
              "1           Jennifer           Manhattan             Midtown  40.75362   \n",
              "2          Elisabeth           Manhattan              Harlem  40.80902   \n",
              "3        LisaRoxanne            Brooklyn        Clinton Hill  40.68514   \n",
              "4              Laura           Manhattan         East Harlem  40.79851   \n",
              "...              ...                 ...                 ...       ...   \n",
              "48890        Sabrina            Brooklyn  Bedford-Stuyvesant  40.67853   \n",
              "48891        Marisol            Brooklyn            Bushwick  40.70184   \n",
              "48892  Ilgar & Aysel           Manhattan              Harlem  40.81475   \n",
              "48893            Taz           Manhattan      Hell's Kitchen  40.75751   \n",
              "48894     Christophe           Manhattan      Hell's Kitchen  40.76404   \n",
              "\n",
              "       longitude        room_type  price  minimum_nights  number_of_reviews  \\\n",
              "0      -73.97237     Private room    149               1                  9   \n",
              "1      -73.98377  Entire home/apt    225               1                 45   \n",
              "2      -73.94190     Private room    150               3                  0   \n",
              "3      -73.95976  Entire home/apt     89               1                270   \n",
              "4      -73.94399  Entire home/apt     80              10                  9   \n",
              "...          ...              ...    ...             ...                ...   \n",
              "48890  -73.94995     Private room     70               2                  0   \n",
              "48891  -73.93317     Private room     40               4                  0   \n",
              "48892  -73.94867  Entire home/apt    115              10                  0   \n",
              "48893  -73.99112      Shared room     55               1                  0   \n",
              "48894  -73.98933     Private room     90               7                  0   \n",
              "\n",
              "      last_review  reviews_per_month  calculated_host_listings_count  \\\n",
              "0      2018-10-19               0.21                               6   \n",
              "1      2019-05-21               0.38                               2   \n",
              "2             NaN                NaN                               1   \n",
              "3      2019-07-05               4.64                               1   \n",
              "4      2018-11-19               0.10                               1   \n",
              "...           ...                ...                             ...   \n",
              "48890         NaN                NaN                               2   \n",
              "48891         NaN                NaN                               2   \n",
              "48892         NaN                NaN                               1   \n",
              "48893         NaN                NaN                               6   \n",
              "48894         NaN                NaN                               1   \n",
              "\n",
              "       availability_365  \n",
              "0                   365  \n",
              "1                   355  \n",
              "2                   365  \n",
              "3                   194  \n",
              "4                     0  \n",
              "...                 ...  \n",
              "48890                 9  \n",
              "48891                36  \n",
              "48892                27  \n",
              "48893                 2  \n",
              "48894                23  \n",
              "\n",
              "[48895 rows x 16 columns]"
            ],
            "text/html": [
              "\n",
              "  <div id=\"df-471dd93a-840b-4823-82ac-87b70e671eda\">\n",
              "    <div class=\"colab-df-container\">\n",
              "      <div>\n",
              "<style scoped>\n",
              "    .dataframe tbody tr th:only-of-type {\n",
              "        vertical-align: middle;\n",
              "    }\n",
              "\n",
              "    .dataframe tbody tr th {\n",
              "        vertical-align: top;\n",
              "    }\n",
              "\n",
              "    .dataframe thead th {\n",
              "        text-align: right;\n",
              "    }\n",
              "</style>\n",
              "<table border=\"1\" class=\"dataframe\">\n",
              "  <thead>\n",
              "    <tr style=\"text-align: right;\">\n",
              "      <th></th>\n",
              "      <th>id</th>\n",
              "      <th>name</th>\n",
              "      <th>host_id</th>\n",
              "      <th>host_name</th>\n",
              "      <th>neighbourhood_group</th>\n",
              "      <th>neighbourhood</th>\n",
              "      <th>latitude</th>\n",
              "      <th>longitude</th>\n",
              "      <th>room_type</th>\n",
              "      <th>price</th>\n",
              "      <th>minimum_nights</th>\n",
              "      <th>number_of_reviews</th>\n",
              "      <th>last_review</th>\n",
              "      <th>reviews_per_month</th>\n",
              "      <th>calculated_host_listings_count</th>\n",
              "      <th>availability_365</th>\n",
              "    </tr>\n",
              "  </thead>\n",
              "  <tbody>\n",
              "    <tr>\n",
              "      <th>0</th>\n",
              "      <td>2539</td>\n",
              "      <td>Clean &amp; quiet apt home by the park</td>\n",
              "      <td>2787</td>\n",
              "      <td>John</td>\n",
              "      <td>Brooklyn</td>\n",
              "      <td>Kensington</td>\n",
              "      <td>40.64749</td>\n",
              "      <td>-73.97237</td>\n",
              "      <td>Private room</td>\n",
              "      <td>149</td>\n",
              "      <td>1</td>\n",
              "      <td>9</td>\n",
              "      <td>2018-10-19</td>\n",
              "      <td>0.21</td>\n",
              "      <td>6</td>\n",
              "      <td>365</td>\n",
              "    </tr>\n",
              "    <tr>\n",
              "      <th>1</th>\n",
              "      <td>2595</td>\n",
              "      <td>Skylit Midtown Castle</td>\n",
              "      <td>2845</td>\n",
              "      <td>Jennifer</td>\n",
              "      <td>Manhattan</td>\n",
              "      <td>Midtown</td>\n",
              "      <td>40.75362</td>\n",
              "      <td>-73.98377</td>\n",
              "      <td>Entire home/apt</td>\n",
              "      <td>225</td>\n",
              "      <td>1</td>\n",
              "      <td>45</td>\n",
              "      <td>2019-05-21</td>\n",
              "      <td>0.38</td>\n",
              "      <td>2</td>\n",
              "      <td>355</td>\n",
              "    </tr>\n",
              "    <tr>\n",
              "      <th>2</th>\n",
              "      <td>3647</td>\n",
              "      <td>THE VILLAGE OF HARLEM....NEW YORK !</td>\n",
              "      <td>4632</td>\n",
              "      <td>Elisabeth</td>\n",
              "      <td>Manhattan</td>\n",
              "      <td>Harlem</td>\n",
              "      <td>40.80902</td>\n",
              "      <td>-73.94190</td>\n",
              "      <td>Private room</td>\n",
              "      <td>150</td>\n",
              "      <td>3</td>\n",
              "      <td>0</td>\n",
              "      <td>NaN</td>\n",
              "      <td>NaN</td>\n",
              "      <td>1</td>\n",
              "      <td>365</td>\n",
              "    </tr>\n",
              "    <tr>\n",
              "      <th>3</th>\n",
              "      <td>3831</td>\n",
              "      <td>Cozy Entire Floor of Brownstone</td>\n",
              "      <td>4869</td>\n",
              "      <td>LisaRoxanne</td>\n",
              "      <td>Brooklyn</td>\n",
              "      <td>Clinton Hill</td>\n",
              "      <td>40.68514</td>\n",
              "      <td>-73.95976</td>\n",
              "      <td>Entire home/apt</td>\n",
              "      <td>89</td>\n",
              "      <td>1</td>\n",
              "      <td>270</td>\n",
              "      <td>2019-07-05</td>\n",
              "      <td>4.64</td>\n",
              "      <td>1</td>\n",
              "      <td>194</td>\n",
              "    </tr>\n",
              "    <tr>\n",
              "      <th>4</th>\n",
              "      <td>5022</td>\n",
              "      <td>Entire Apt: Spacious Studio/Loft by central park</td>\n",
              "      <td>7192</td>\n",
              "      <td>Laura</td>\n",
              "      <td>Manhattan</td>\n",
              "      <td>East Harlem</td>\n",
              "      <td>40.79851</td>\n",
              "      <td>-73.94399</td>\n",
              "      <td>Entire home/apt</td>\n",
              "      <td>80</td>\n",
              "      <td>10</td>\n",
              "      <td>9</td>\n",
              "      <td>2018-11-19</td>\n",
              "      <td>0.10</td>\n",
              "      <td>1</td>\n",
              "      <td>0</td>\n",
              "    </tr>\n",
              "    <tr>\n",
              "      <th>...</th>\n",
              "      <td>...</td>\n",
              "      <td>...</td>\n",
              "      <td>...</td>\n",
              "      <td>...</td>\n",
              "      <td>...</td>\n",
              "      <td>...</td>\n",
              "      <td>...</td>\n",
              "      <td>...</td>\n",
              "      <td>...</td>\n",
              "      <td>...</td>\n",
              "      <td>...</td>\n",
              "      <td>...</td>\n",
              "      <td>...</td>\n",
              "      <td>...</td>\n",
              "      <td>...</td>\n",
              "      <td>...</td>\n",
              "    </tr>\n",
              "    <tr>\n",
              "      <th>48890</th>\n",
              "      <td>36484665</td>\n",
              "      <td>Charming one bedroom - newly renovated rowhouse</td>\n",
              "      <td>8232441</td>\n",
              "      <td>Sabrina</td>\n",
              "      <td>Brooklyn</td>\n",
              "      <td>Bedford-Stuyvesant</td>\n",
              "      <td>40.67853</td>\n",
              "      <td>-73.94995</td>\n",
              "      <td>Private room</td>\n",
              "      <td>70</td>\n",
              "      <td>2</td>\n",
              "      <td>0</td>\n",
              "      <td>NaN</td>\n",
              "      <td>NaN</td>\n",
              "      <td>2</td>\n",
              "      <td>9</td>\n",
              "    </tr>\n",
              "    <tr>\n",
              "      <th>48891</th>\n",
              "      <td>36485057</td>\n",
              "      <td>Affordable room in Bushwick/East Williamsburg</td>\n",
              "      <td>6570630</td>\n",
              "      <td>Marisol</td>\n",
              "      <td>Brooklyn</td>\n",
              "      <td>Bushwick</td>\n",
              "      <td>40.70184</td>\n",
              "      <td>-73.93317</td>\n",
              "      <td>Private room</td>\n",
              "      <td>40</td>\n",
              "      <td>4</td>\n",
              "      <td>0</td>\n",
              "      <td>NaN</td>\n",
              "      <td>NaN</td>\n",
              "      <td>2</td>\n",
              "      <td>36</td>\n",
              "    </tr>\n",
              "    <tr>\n",
              "      <th>48892</th>\n",
              "      <td>36485431</td>\n",
              "      <td>Sunny Studio at Historical Neighborhood</td>\n",
              "      <td>23492952</td>\n",
              "      <td>Ilgar &amp; Aysel</td>\n",
              "      <td>Manhattan</td>\n",
              "      <td>Harlem</td>\n",
              "      <td>40.81475</td>\n",
              "      <td>-73.94867</td>\n",
              "      <td>Entire home/apt</td>\n",
              "      <td>115</td>\n",
              "      <td>10</td>\n",
              "      <td>0</td>\n",
              "      <td>NaN</td>\n",
              "      <td>NaN</td>\n",
              "      <td>1</td>\n",
              "      <td>27</td>\n",
              "    </tr>\n",
              "    <tr>\n",
              "      <th>48893</th>\n",
              "      <td>36485609</td>\n",
              "      <td>43rd St. Time Square-cozy single bed</td>\n",
              "      <td>30985759</td>\n",
              "      <td>Taz</td>\n",
              "      <td>Manhattan</td>\n",
              "      <td>Hell's Kitchen</td>\n",
              "      <td>40.75751</td>\n",
              "      <td>-73.99112</td>\n",
              "      <td>Shared room</td>\n",
              "      <td>55</td>\n",
              "      <td>1</td>\n",
              "      <td>0</td>\n",
              "      <td>NaN</td>\n",
              "      <td>NaN</td>\n",
              "      <td>6</td>\n",
              "      <td>2</td>\n",
              "    </tr>\n",
              "    <tr>\n",
              "      <th>48894</th>\n",
              "      <td>36487245</td>\n",
              "      <td>Trendy duplex in the very heart of Hell's Kitchen</td>\n",
              "      <td>68119814</td>\n",
              "      <td>Christophe</td>\n",
              "      <td>Manhattan</td>\n",
              "      <td>Hell's Kitchen</td>\n",
              "      <td>40.76404</td>\n",
              "      <td>-73.98933</td>\n",
              "      <td>Private room</td>\n",
              "      <td>90</td>\n",
              "      <td>7</td>\n",
              "      <td>0</td>\n",
              "      <td>NaN</td>\n",
              "      <td>NaN</td>\n",
              "      <td>1</td>\n",
              "      <td>23</td>\n",
              "    </tr>\n",
              "  </tbody>\n",
              "</table>\n",
              "<p>48895 rows × 16 columns</p>\n",
              "</div>\n",
              "      <button class=\"colab-df-convert\" onclick=\"convertToInteractive('df-471dd93a-840b-4823-82ac-87b70e671eda')\"\n",
              "              title=\"Convert this dataframe to an interactive table.\"\n",
              "              style=\"display:none;\">\n",
              "        \n",
              "  <svg xmlns=\"http://www.w3.org/2000/svg\" height=\"24px\"viewBox=\"0 0 24 24\"\n",
              "       width=\"24px\">\n",
              "    <path d=\"M0 0h24v24H0V0z\" fill=\"none\"/>\n",
              "    <path d=\"M18.56 5.44l.94 2.06.94-2.06 2.06-.94-2.06-.94-.94-2.06-.94 2.06-2.06.94zm-11 1L8.5 8.5l.94-2.06 2.06-.94-2.06-.94L8.5 2.5l-.94 2.06-2.06.94zm10 10l.94 2.06.94-2.06 2.06-.94-2.06-.94-.94-2.06-.94 2.06-2.06.94z\"/><path d=\"M17.41 7.96l-1.37-1.37c-.4-.4-.92-.59-1.43-.59-.52 0-1.04.2-1.43.59L10.3 9.45l-7.72 7.72c-.78.78-.78 2.05 0 2.83L4 21.41c.39.39.9.59 1.41.59.51 0 1.02-.2 1.41-.59l7.78-7.78 2.81-2.81c.8-.78.8-2.07 0-2.86zM5.41 20L4 18.59l7.72-7.72 1.47 1.35L5.41 20z\"/>\n",
              "  </svg>\n",
              "      </button>\n",
              "      \n",
              "  <style>\n",
              "    .colab-df-container {\n",
              "      display:flex;\n",
              "      flex-wrap:wrap;\n",
              "      gap: 12px;\n",
              "    }\n",
              "\n",
              "    .colab-df-convert {\n",
              "      background-color: #E8F0FE;\n",
              "      border: none;\n",
              "      border-radius: 50%;\n",
              "      cursor: pointer;\n",
              "      display: none;\n",
              "      fill: #1967D2;\n",
              "      height: 32px;\n",
              "      padding: 0 0 0 0;\n",
              "      width: 32px;\n",
              "    }\n",
              "\n",
              "    .colab-df-convert:hover {\n",
              "      background-color: #E2EBFA;\n",
              "      box-shadow: 0px 1px 2px rgba(60, 64, 67, 0.3), 0px 1px 3px 1px rgba(60, 64, 67, 0.15);\n",
              "      fill: #174EA6;\n",
              "    }\n",
              "\n",
              "    [theme=dark] .colab-df-convert {\n",
              "      background-color: #3B4455;\n",
              "      fill: #D2E3FC;\n",
              "    }\n",
              "\n",
              "    [theme=dark] .colab-df-convert:hover {\n",
              "      background-color: #434B5C;\n",
              "      box-shadow: 0px 1px 3px 1px rgba(0, 0, 0, 0.15);\n",
              "      filter: drop-shadow(0px 1px 2px rgba(0, 0, 0, 0.3));\n",
              "      fill: #FFFFFF;\n",
              "    }\n",
              "  </style>\n",
              "\n",
              "      <script>\n",
              "        const buttonEl =\n",
              "          document.querySelector('#df-471dd93a-840b-4823-82ac-87b70e671eda button.colab-df-convert');\n",
              "        buttonEl.style.display =\n",
              "          google.colab.kernel.accessAllowed ? 'block' : 'none';\n",
              "\n",
              "        async function convertToInteractive(key) {\n",
              "          const element = document.querySelector('#df-471dd93a-840b-4823-82ac-87b70e671eda');\n",
              "          const dataTable =\n",
              "            await google.colab.kernel.invokeFunction('convertToInteractive',\n",
              "                                                     [key], {});\n",
              "          if (!dataTable) return;\n",
              "\n",
              "          const docLinkHtml = 'Like what you see? Visit the ' +\n",
              "            '<a target=\"_blank\" href=https://colab.research.google.com/notebooks/data_table.ipynb>data table notebook</a>'\n",
              "            + ' to learn more about interactive tables.';\n",
              "          element.innerHTML = '';\n",
              "          dataTable['output_type'] = 'display_data';\n",
              "          await google.colab.output.renderOutput(dataTable, element);\n",
              "          const docLink = document.createElement('div');\n",
              "          docLink.innerHTML = docLinkHtml;\n",
              "          element.appendChild(docLink);\n",
              "        }\n",
              "      </script>\n",
              "    </div>\n",
              "  </div>\n",
              "  "
            ]
          },
          "metadata": {},
          "execution_count": 6
        }
      ]
    },
    {
      "cell_type": "markdown",
      "source": [
        "# DATA CLEANING"
      ],
      "metadata": {
        "id": "xxyPlqI_EcwS"
      }
    },
    {
      "cell_type": "code",
      "source": [
        "# examine missing value \n",
        "df.isnull().sum()"
      ],
      "metadata": {
        "colab": {
          "base_uri": "https://localhost:8080/"
        },
        "id": "tuVn1Rc4PMo-",
        "outputId": "4b115df6-bbde-4f3c-f391-dac2e9ac215f"
      },
      "execution_count": 7,
      "outputs": [
        {
          "output_type": "execute_result",
          "data": {
            "text/plain": [
              "id                                    0\n",
              "name                                 16\n",
              "host_id                               0\n",
              "host_name                            21\n",
              "neighbourhood_group                   0\n",
              "neighbourhood                         0\n",
              "latitude                              0\n",
              "longitude                             0\n",
              "room_type                             0\n",
              "price                                 0\n",
              "minimum_nights                        0\n",
              "number_of_reviews                     0\n",
              "last_review                       10052\n",
              "reviews_per_month                 10052\n",
              "calculated_host_listings_count        0\n",
              "availability_365                      0\n",
              "dtype: int64"
            ]
          },
          "metadata": {},
          "execution_count": 7
        }
      ]
    },
    {
      "cell_type": "markdown",
      "source": [
        "Handling Missing Data : \n",
        "the null value identified in name, host name, last review and review per month coloumn therefore,\n",
        "\n",
        "for name, host name that has no value, we will drop the row. it is irrelevant and insignificant to our data analysis \n",
        "\n",
        "for review_per_month and and last_review  column we will fill it with 0.0 for missing values. assuming that the listings have not received any reviews. "
      ],
      "metadata": {
        "id": "2FQqG2PjPiFj"
      }
    },
    {
      "cell_type": "code",
      "source": [
        "# drop rows with missing 'name' and 'host_name' values\n",
        "airbnbny = df.dropna(subset=['name', 'host_name'])\n",
        "\n",
        "# fill missing 'last_review' and 'reviews_per_month' values with 0\n",
        "airbnbny[['last_review', 'reviews_per_month']] = airbnbny[['last_review', 'reviews_per_month']].fillna(0)\n"
      ],
      "metadata": {
        "colab": {
          "base_uri": "https://localhost:8080/"
        },
        "id": "BMrJMB1gTceY",
        "outputId": "5f1f7f0d-c41a-4afd-c875-c29a72ed88cc"
      },
      "execution_count": 8,
      "outputs": [
        {
          "output_type": "stream",
          "name": "stderr",
          "text": [
            "<ipython-input-8-d88c757f85eb>:5: SettingWithCopyWarning: \n",
            "A value is trying to be set on a copy of a slice from a DataFrame.\n",
            "Try using .loc[row_indexer,col_indexer] = value instead\n",
            "\n",
            "See the caveats in the documentation: https://pandas.pydata.org/pandas-docs/stable/user_guide/indexing.html#returning-a-view-versus-a-copy\n",
            "  airbnbny[['last_review', 'reviews_per_month']] = airbnbny[['last_review', 'reviews_per_month']].fillna(0)\n"
          ]
        }
      ]
    },
    {
      "cell_type": "code",
      "source": [
        "# examine the cleaned data \n",
        "airbnbny.isnull().sum()"
      ],
      "metadata": {
        "colab": {
          "base_uri": "https://localhost:8080/"
        },
        "id": "7znO_KaLWbyL",
        "outputId": "5d0f6889-2a9a-4650-a53c-502771dca1b5"
      },
      "execution_count": 9,
      "outputs": [
        {
          "output_type": "execute_result",
          "data": {
            "text/plain": [
              "id                                0\n",
              "name                              0\n",
              "host_id                           0\n",
              "host_name                         0\n",
              "neighbourhood_group               0\n",
              "neighbourhood                     0\n",
              "latitude                          0\n",
              "longitude                         0\n",
              "room_type                         0\n",
              "price                             0\n",
              "minimum_nights                    0\n",
              "number_of_reviews                 0\n",
              "last_review                       0\n",
              "reviews_per_month                 0\n",
              "calculated_host_listings_count    0\n",
              "availability_365                  0\n",
              "dtype: int64"
            ]
          },
          "metadata": {},
          "execution_count": 9
        }
      ]
    },
    {
      "cell_type": "code",
      "source": [
        "airbnbny.head()"
      ],
      "metadata": {
        "colab": {
          "base_uri": "https://localhost:8080/",
          "height": 0
        },
        "id": "5TcglclqXCyW",
        "outputId": "bfe34a5b-0a3a-4e0b-a51a-e9c1cda69b43"
      },
      "execution_count": 10,
      "outputs": [
        {
          "output_type": "execute_result",
          "data": {
            "text/plain": [
              "     id                                              name  host_id  \\\n",
              "0  2539                Clean & quiet apt home by the park     2787   \n",
              "1  2595                             Skylit Midtown Castle     2845   \n",
              "2  3647               THE VILLAGE OF HARLEM....NEW YORK !     4632   \n",
              "3  3831                   Cozy Entire Floor of Brownstone     4869   \n",
              "4  5022  Entire Apt: Spacious Studio/Loft by central park     7192   \n",
              "\n",
              "     host_name neighbourhood_group neighbourhood  latitude  longitude  \\\n",
              "0         John            Brooklyn    Kensington  40.64749  -73.97237   \n",
              "1     Jennifer           Manhattan       Midtown  40.75362  -73.98377   \n",
              "2    Elisabeth           Manhattan        Harlem  40.80902  -73.94190   \n",
              "3  LisaRoxanne            Brooklyn  Clinton Hill  40.68514  -73.95976   \n",
              "4        Laura           Manhattan   East Harlem  40.79851  -73.94399   \n",
              "\n",
              "         room_type  price  minimum_nights  number_of_reviews last_review  \\\n",
              "0     Private room    149               1                  9  2018-10-19   \n",
              "1  Entire home/apt    225               1                 45  2019-05-21   \n",
              "2     Private room    150               3                  0           0   \n",
              "3  Entire home/apt     89               1                270  2019-07-05   \n",
              "4  Entire home/apt     80              10                  9  2018-11-19   \n",
              "\n",
              "   reviews_per_month  calculated_host_listings_count  availability_365  \n",
              "0               0.21                               6               365  \n",
              "1               0.38                               2               355  \n",
              "2               0.00                               1               365  \n",
              "3               4.64                               1               194  \n",
              "4               0.10                               1                 0  "
            ],
            "text/html": [
              "\n",
              "  <div id=\"df-f97735ff-b4a7-400d-81eb-932b659123a7\">\n",
              "    <div class=\"colab-df-container\">\n",
              "      <div>\n",
              "<style scoped>\n",
              "    .dataframe tbody tr th:only-of-type {\n",
              "        vertical-align: middle;\n",
              "    }\n",
              "\n",
              "    .dataframe tbody tr th {\n",
              "        vertical-align: top;\n",
              "    }\n",
              "\n",
              "    .dataframe thead th {\n",
              "        text-align: right;\n",
              "    }\n",
              "</style>\n",
              "<table border=\"1\" class=\"dataframe\">\n",
              "  <thead>\n",
              "    <tr style=\"text-align: right;\">\n",
              "      <th></th>\n",
              "      <th>id</th>\n",
              "      <th>name</th>\n",
              "      <th>host_id</th>\n",
              "      <th>host_name</th>\n",
              "      <th>neighbourhood_group</th>\n",
              "      <th>neighbourhood</th>\n",
              "      <th>latitude</th>\n",
              "      <th>longitude</th>\n",
              "      <th>room_type</th>\n",
              "      <th>price</th>\n",
              "      <th>minimum_nights</th>\n",
              "      <th>number_of_reviews</th>\n",
              "      <th>last_review</th>\n",
              "      <th>reviews_per_month</th>\n",
              "      <th>calculated_host_listings_count</th>\n",
              "      <th>availability_365</th>\n",
              "    </tr>\n",
              "  </thead>\n",
              "  <tbody>\n",
              "    <tr>\n",
              "      <th>0</th>\n",
              "      <td>2539</td>\n",
              "      <td>Clean &amp; quiet apt home by the park</td>\n",
              "      <td>2787</td>\n",
              "      <td>John</td>\n",
              "      <td>Brooklyn</td>\n",
              "      <td>Kensington</td>\n",
              "      <td>40.64749</td>\n",
              "      <td>-73.97237</td>\n",
              "      <td>Private room</td>\n",
              "      <td>149</td>\n",
              "      <td>1</td>\n",
              "      <td>9</td>\n",
              "      <td>2018-10-19</td>\n",
              "      <td>0.21</td>\n",
              "      <td>6</td>\n",
              "      <td>365</td>\n",
              "    </tr>\n",
              "    <tr>\n",
              "      <th>1</th>\n",
              "      <td>2595</td>\n",
              "      <td>Skylit Midtown Castle</td>\n",
              "      <td>2845</td>\n",
              "      <td>Jennifer</td>\n",
              "      <td>Manhattan</td>\n",
              "      <td>Midtown</td>\n",
              "      <td>40.75362</td>\n",
              "      <td>-73.98377</td>\n",
              "      <td>Entire home/apt</td>\n",
              "      <td>225</td>\n",
              "      <td>1</td>\n",
              "      <td>45</td>\n",
              "      <td>2019-05-21</td>\n",
              "      <td>0.38</td>\n",
              "      <td>2</td>\n",
              "      <td>355</td>\n",
              "    </tr>\n",
              "    <tr>\n",
              "      <th>2</th>\n",
              "      <td>3647</td>\n",
              "      <td>THE VILLAGE OF HARLEM....NEW YORK !</td>\n",
              "      <td>4632</td>\n",
              "      <td>Elisabeth</td>\n",
              "      <td>Manhattan</td>\n",
              "      <td>Harlem</td>\n",
              "      <td>40.80902</td>\n",
              "      <td>-73.94190</td>\n",
              "      <td>Private room</td>\n",
              "      <td>150</td>\n",
              "      <td>3</td>\n",
              "      <td>0</td>\n",
              "      <td>0</td>\n",
              "      <td>0.00</td>\n",
              "      <td>1</td>\n",
              "      <td>365</td>\n",
              "    </tr>\n",
              "    <tr>\n",
              "      <th>3</th>\n",
              "      <td>3831</td>\n",
              "      <td>Cozy Entire Floor of Brownstone</td>\n",
              "      <td>4869</td>\n",
              "      <td>LisaRoxanne</td>\n",
              "      <td>Brooklyn</td>\n",
              "      <td>Clinton Hill</td>\n",
              "      <td>40.68514</td>\n",
              "      <td>-73.95976</td>\n",
              "      <td>Entire home/apt</td>\n",
              "      <td>89</td>\n",
              "      <td>1</td>\n",
              "      <td>270</td>\n",
              "      <td>2019-07-05</td>\n",
              "      <td>4.64</td>\n",
              "      <td>1</td>\n",
              "      <td>194</td>\n",
              "    </tr>\n",
              "    <tr>\n",
              "      <th>4</th>\n",
              "      <td>5022</td>\n",
              "      <td>Entire Apt: Spacious Studio/Loft by central park</td>\n",
              "      <td>7192</td>\n",
              "      <td>Laura</td>\n",
              "      <td>Manhattan</td>\n",
              "      <td>East Harlem</td>\n",
              "      <td>40.79851</td>\n",
              "      <td>-73.94399</td>\n",
              "      <td>Entire home/apt</td>\n",
              "      <td>80</td>\n",
              "      <td>10</td>\n",
              "      <td>9</td>\n",
              "      <td>2018-11-19</td>\n",
              "      <td>0.10</td>\n",
              "      <td>1</td>\n",
              "      <td>0</td>\n",
              "    </tr>\n",
              "  </tbody>\n",
              "</table>\n",
              "</div>\n",
              "      <button class=\"colab-df-convert\" onclick=\"convertToInteractive('df-f97735ff-b4a7-400d-81eb-932b659123a7')\"\n",
              "              title=\"Convert this dataframe to an interactive table.\"\n",
              "              style=\"display:none;\">\n",
              "        \n",
              "  <svg xmlns=\"http://www.w3.org/2000/svg\" height=\"24px\"viewBox=\"0 0 24 24\"\n",
              "       width=\"24px\">\n",
              "    <path d=\"M0 0h24v24H0V0z\" fill=\"none\"/>\n",
              "    <path d=\"M18.56 5.44l.94 2.06.94-2.06 2.06-.94-2.06-.94-.94-2.06-.94 2.06-2.06.94zm-11 1L8.5 8.5l.94-2.06 2.06-.94-2.06-.94L8.5 2.5l-.94 2.06-2.06.94zm10 10l.94 2.06.94-2.06 2.06-.94-2.06-.94-.94-2.06-.94 2.06-2.06.94z\"/><path d=\"M17.41 7.96l-1.37-1.37c-.4-.4-.92-.59-1.43-.59-.52 0-1.04.2-1.43.59L10.3 9.45l-7.72 7.72c-.78.78-.78 2.05 0 2.83L4 21.41c.39.39.9.59 1.41.59.51 0 1.02-.2 1.41-.59l7.78-7.78 2.81-2.81c.8-.78.8-2.07 0-2.86zM5.41 20L4 18.59l7.72-7.72 1.47 1.35L5.41 20z\"/>\n",
              "  </svg>\n",
              "      </button>\n",
              "      \n",
              "  <style>\n",
              "    .colab-df-container {\n",
              "      display:flex;\n",
              "      flex-wrap:wrap;\n",
              "      gap: 12px;\n",
              "    }\n",
              "\n",
              "    .colab-df-convert {\n",
              "      background-color: #E8F0FE;\n",
              "      border: none;\n",
              "      border-radius: 50%;\n",
              "      cursor: pointer;\n",
              "      display: none;\n",
              "      fill: #1967D2;\n",
              "      height: 32px;\n",
              "      padding: 0 0 0 0;\n",
              "      width: 32px;\n",
              "    }\n",
              "\n",
              "    .colab-df-convert:hover {\n",
              "      background-color: #E2EBFA;\n",
              "      box-shadow: 0px 1px 2px rgba(60, 64, 67, 0.3), 0px 1px 3px 1px rgba(60, 64, 67, 0.15);\n",
              "      fill: #174EA6;\n",
              "    }\n",
              "\n",
              "    [theme=dark] .colab-df-convert {\n",
              "      background-color: #3B4455;\n",
              "      fill: #D2E3FC;\n",
              "    }\n",
              "\n",
              "    [theme=dark] .colab-df-convert:hover {\n",
              "      background-color: #434B5C;\n",
              "      box-shadow: 0px 1px 3px 1px rgba(0, 0, 0, 0.15);\n",
              "      filter: drop-shadow(0px 1px 2px rgba(0, 0, 0, 0.3));\n",
              "      fill: #FFFFFF;\n",
              "    }\n",
              "  </style>\n",
              "\n",
              "      <script>\n",
              "        const buttonEl =\n",
              "          document.querySelector('#df-f97735ff-b4a7-400d-81eb-932b659123a7 button.colab-df-convert');\n",
              "        buttonEl.style.display =\n",
              "          google.colab.kernel.accessAllowed ? 'block' : 'none';\n",
              "\n",
              "        async function convertToInteractive(key) {\n",
              "          const element = document.querySelector('#df-f97735ff-b4a7-400d-81eb-932b659123a7');\n",
              "          const dataTable =\n",
              "            await google.colab.kernel.invokeFunction('convertToInteractive',\n",
              "                                                     [key], {});\n",
              "          if (!dataTable) return;\n",
              "\n",
              "          const docLinkHtml = 'Like what you see? Visit the ' +\n",
              "            '<a target=\"_blank\" href=https://colab.research.google.com/notebooks/data_table.ipynb>data table notebook</a>'\n",
              "            + ' to learn more about interactive tables.';\n",
              "          element.innerHTML = '';\n",
              "          dataTable['output_type'] = 'display_data';\n",
              "          await google.colab.output.renderOutput(dataTable, element);\n",
              "          const docLink = document.createElement('div');\n",
              "          docLink.innerHTML = docLinkHtml;\n",
              "          element.appendChild(docLink);\n",
              "        }\n",
              "      </script>\n",
              "    </div>\n",
              "  </div>\n",
              "  "
            ]
          },
          "metadata": {},
          "execution_count": 10
        }
      ]
    },
    {
      "cell_type": "markdown",
      "source": [
        "# DATA EXPLORATION, ANALYSIS and CALCULATIONS"
      ],
      "metadata": {
        "id": "5qQQsdPGEf33"
      }
    },
    {
      "cell_type": "markdown",
      "source": [
        "## Favorite AirBnB listing in Manhattan"
      ],
      "metadata": {
        "id": "PeUyAx9GTWtj"
      }
    },
    {
      "cell_type": "markdown",
      "source": [
        "What is the name of every type of room most favorite airbnb listings in manhattan based on monthly reviews ?"
      ],
      "metadata": {
        "id": "DcNPdE3C5oM7"
      }
    },
    {
      "cell_type": "code",
      "source": [
        "# Filter the data to only include listings in Manhattan\n",
        "airbnbny_manhattan = airbnbny[airbnbny['neighbourhood_group'] == 'Manhattan']\n",
        "\n",
        "# Group by room type and get the max reviews per month\n",
        "max_reviews_manhattan = airbnbny_manhattan.groupby('room_type')['reviews_per_month'].max()\n",
        "\n",
        "max_reviews_manhattan"
      ],
      "metadata": {
        "colab": {
          "base_uri": "https://localhost:8080/"
        },
        "id": "_zzfp9_l29bm",
        "outputId": "1abe5dbe-6aae-48d5-c836-db6859f66723"
      },
      "execution_count": 11,
      "outputs": [
        {
          "output_type": "execute_result",
          "data": {
            "text/plain": [
              "room_type\n",
              "Entire home/apt    14.00\n",
              "Private room       58.50\n",
              "Shared room        10.77\n",
              "Name: reviews_per_month, dtype: float64"
            ]
          },
          "metadata": {},
          "execution_count": 11
        }
      ]
    },
    {
      "cell_type": "code",
      "source": [
        "# Get the corresponding listings for each room type\n",
        "most_fav_listings = []\n",
        "for room_type, max_review in max_reviews_manhattan.items():\n",
        "    listing = airbnbny_manhattan[(airbnbny_manhattan['room_type'] == room_type) & (airbnbny_manhattan['reviews_per_month'] == max_review)].iloc[0]\n",
        "    most_fav_listings.append(listing)"
      ],
      "metadata": {
        "id": "2oaarGwZ3OLi"
      },
      "execution_count": 12,
      "outputs": []
    },
    {
      "cell_type": "code",
      "source": [
        "# Create a bar chart for each room type\n",
        "fig, ax = plt.subplots(figsize=(8, 5))\n",
        "\n",
        "room_types = max_reviews_manhattan.index.tolist()\n",
        "reviews = max_reviews_manhattan.tolist()\n",
        "listings = [listing['name'] for listing in most_fav_listings]\n",
        "\n",
        "ax.bar(room_types, reviews, color='magenta')\n",
        "ax.set_title('Most Popular Airbnb Listings in Manhattan')\n",
        "ax.set_xlabel('Room Type')\n",
        "ax.set_ylabel('Max Reviews per Month')\n",
        "\n",
        "for i, listing in enumerate(listings):\n",
        "    ax.text(i, reviews[i]+0.5, listing, ha='center', rotation=90, fontsize=10)\n",
        "\n",
        "plt.tight_layout()\n",
        "plt.show()"
      ],
      "metadata": {
        "colab": {
          "base_uri": "https://localhost:8080/",
          "height": 0
        },
        "id": "NQ6dgaMG5WFB",
        "outputId": "fdcbab18-f21b-407d-e171-87b134e36ce8"
      },
      "execution_count": 13,
      "outputs": [
        {
          "output_type": "display_data",
          "data": {
            "text/plain": [
              "<Figure size 800x500 with 1 Axes>"
            ],
            "image/png": "[encoded data removed]"
          },
          "metadata": {}
        }
      ]
    },
    {
      "cell_type": "markdown",
      "source": [
        "Based on the highest number of reviews per month, the bar chart offers information on the most beloved Airbnb accommodations in Manhattan. It demonstrates that the most common room types in Manhattan are private room and complete homes or apartments. \n",
        "\n",
        "\"Enjoy great views of the city in our Deluxe Room\" and \"AMASING TIME SQUARE/ 2BR 3BED Apartment\" are the top Airbnb listings for individual rooms and complete homes/apartments, as well. \n",
        "\n",
        "When compared to comparable listings for their respective room categories, these two listings have an outstanding diffrence in terms of the maximum amount of reviews every month. Since the most popular listings are found in the most sought-after neighborhoods of the city, the chart's overall conclusion is that location plays a significant factor in the popularity of Airbnb listings in Manhattan.\n"
      ],
      "metadata": {
        "id": "mPhR717ebQy3"
      }
    },
    {
      "cell_type": "markdown",
      "source": [
        "## AirBnB Peak Period "
      ],
      "metadata": {
        "id": "5Xr5p3niTuAV"
      }
    },
    {
      "cell_type": "markdown",
      "source": [
        "When is the busiest time of the year for Airbnb listings in New York City based on number of reviews and reviews per month?"
      ],
      "metadata": {
        "id": "c4pfv5wj5zhv"
      }
    },
    {
      "cell_type": "code",
      "source": [
        "# Convert the 'last_review' column to datetime format\n",
        "airbnbny['last_review'] = pd.to_datetime(airbnbny['last_review'])\n",
        "\n",
        "# Extract the month field from the 'last_review' column\n",
        "airbnbny['month_review'] = airbnbny['last_review'].dt.month\n",
        "\n",
        "airbnbny"
      ],
      "metadata": {
        "colab": {
          "base_uri": "https://localhost:8080/",
          "height": 0
        },
        "id": "CM7PzN9z7ITg",
        "outputId": "f4a92c3d-5e8f-4291-cea7-aad0142f8b66"
      },
      "execution_count": 14,
      "outputs": [
        {
          "output_type": "stream",
          "name": "stderr",
          "text": [
            "<ipython-input-14-cba290c3c6d6>:2: SettingWithCopyWarning: \n",
            "A value is trying to be set on a copy of a slice from a DataFrame.\n",
            "Try using .loc[row_indexer,col_indexer] = value instead\n",
            "\n",
            "See the caveats in the documentation: https://pandas.pydata.org/pandas-docs/stable/user_guide/indexing.html#returning-a-view-versus-a-copy\n",
            "  airbnbny['last_review'] = pd.to_datetime(airbnbny['last_review'])\n",
            "<ipython-input-14-cba290c3c6d6>:5: SettingWithCopyWarning: \n",
            "A value is trying to be set on a copy of a slice from a DataFrame.\n",
            "Try using .loc[row_indexer,col_indexer] = value instead\n",
            "\n",
            "See the caveats in the documentation: https://pandas.pydata.org/pandas-docs/stable/user_guide/indexing.html#returning-a-view-versus-a-copy\n",
            "  airbnbny['month_review'] = airbnbny['last_review'].dt.month\n"
          ]
        },
        {
          "output_type": "execute_result",
          "data": {
            "text/plain": [
              "             id                                               name   host_id  \\\n",
              "0          2539                 Clean & quiet apt home by the park      2787   \n",
              "1          2595                              Skylit Midtown Castle      2845   \n",
              "2          3647                THE VILLAGE OF HARLEM....NEW YORK !      4632   \n",
              "3          3831                    Cozy Entire Floor of Brownstone      4869   \n",
              "4          5022   Entire Apt: Spacious Studio/Loft by central park      7192   \n",
              "...         ...                                                ...       ...   \n",
              "48890  36484665    Charming one bedroom - newly renovated rowhouse   8232441   \n",
              "48891  36485057      Affordable room in Bushwick/East Williamsburg   6570630   \n",
              "48892  36485431            Sunny Studio at Historical Neighborhood  23492952   \n",
              "48893  36485609               43rd St. Time Square-cozy single bed  30985759   \n",
              "48894  36487245  Trendy duplex in the very heart of Hell's Kitchen  68119814   \n",
              "\n",
              "           host_name neighbourhood_group       neighbourhood  latitude  \\\n",
              "0               John            Brooklyn          Kensington  40.64749   \n",
              "1           Jennifer           Manhattan             Midtown  40.75362   \n",
              "2          Elisabeth           Manhattan              Harlem  40.80902   \n",
              "3        LisaRoxanne            Brooklyn        Clinton Hill  40.68514   \n",
              "4              Laura           Manhattan         East Harlem  40.79851   \n",
              "...              ...                 ...                 ...       ...   \n",
              "48890        Sabrina            Brooklyn  Bedford-Stuyvesant  40.67853   \n",
              "48891        Marisol            Brooklyn            Bushwick  40.70184   \n",
              "48892  Ilgar & Aysel           Manhattan              Harlem  40.81475   \n",
              "48893            Taz           Manhattan      Hell's Kitchen  40.75751   \n",
              "48894     Christophe           Manhattan      Hell's Kitchen  40.76404   \n",
              "\n",
              "       longitude        room_type  price  minimum_nights  number_of_reviews  \\\n",
              "0      -73.97237     Private room    149               1                  9   \n",
              "1      -73.98377  Entire home/apt    225               1                 45   \n",
              "2      -73.94190     Private room    150               3                  0   \n",
              "3      -73.95976  Entire home/apt     89               1                270   \n",
              "4      -73.94399  Entire home/apt     80              10                  9   \n",
              "...          ...              ...    ...             ...                ...   \n",
              "48890  -73.94995     Private room     70               2                  0   \n",
              "48891  -73.93317     Private room     40               4                  0   \n",
              "48892  -73.94867  Entire home/apt    115              10                  0   \n",
              "48893  -73.99112      Shared room     55               1                  0   \n",
              "48894  -73.98933     Private room     90               7                  0   \n",
              "\n",
              "      last_review  reviews_per_month  calculated_host_listings_count  \\\n",
              "0      2018-10-19               0.21                               6   \n",
              "1      2019-05-21               0.38                               2   \n",
              "2      1970-01-01               0.00                               1   \n",
              "3      2019-07-05               4.64                               1   \n",
              "4      2018-11-19               0.10                               1   \n",
              "...           ...                ...                             ...   \n",
              "48890  1970-01-01               0.00                               2   \n",
              "48891  1970-01-01               0.00                               2   \n",
              "48892  1970-01-01               0.00                               1   \n",
              "48893  1970-01-01               0.00                               6   \n",
              "48894  1970-01-01               0.00                               1   \n",
              "\n",
              "       availability_365  month_review  \n",
              "0                   365            10  \n",
              "1                   355             5  \n",
              "2                   365             1  \n",
              "3                   194             7  \n",
              "4                     0            11  \n",
              "...                 ...           ...  \n",
              "48890                 9             1  \n",
              "48891                36             1  \n",
              "48892                27             1  \n",
              "48893                 2             1  \n",
              "48894                23             1  \n",
              "\n",
              "[48858 rows x 17 columns]"
            ],
            "text/html": [
              "\n",
              "  <div id=\"df-550564ec-7e49-4e32-8722-cc9bf1238b53\">\n",
              "    <div class=\"colab-df-container\">\n",
              "      <div>\n",
              "<style scoped>\n",
              "    .dataframe tbody tr th:only-of-type {\n",
              "        vertical-align: middle;\n",
              "    }\n",
              "\n",
              "    .dataframe tbody tr th {\n",
              "        vertical-align: top;\n",
              "    }\n",
              "\n",
              "    .dataframe thead th {\n",
              "        text-align: right;\n",
              "    }\n",
              "</style>\n",
              "<table border=\"1\" class=\"dataframe\">\n",
              "  <thead>\n",
              "    <tr style=\"text-align: right;\">\n",
              "      <th></th>\n",
              "      <th>id</th>\n",
              "      <th>name</th>\n",
              "      <th>host_id</th>\n",
              "      <th>host_name</th>\n",
              "      <th>neighbourhood_group</th>\n",
              "      <th>neighbourhood</th>\n",
              "      <th>latitude</th>\n",
              "      <th>longitude</th>\n",
              "      <th>room_type</th>\n",
              "      <th>price</th>\n",
              "      <th>minimum_nights</th>\n",
              "      <th>number_of_reviews</th>\n",
              "      <th>last_review</th>\n",
              "      <th>reviews_per_month</th>\n",
              "      <th>calculated_host_listings_count</th>\n",
              "      <th>availability_365</th>\n",
              "      <th>month_review</th>\n",
              "    </tr>\n",
              "  </thead>\n",
              "  <tbody>\n",
              "    <tr>\n",
              "      <th>0</th>\n",
              "      <td>2539</td>\n",
              "      <td>Clean &amp; quiet apt home by the park</td>\n",
              "      <td>2787</td>\n",
              "      <td>John</td>\n",
              "      <td>Brooklyn</td>\n",
              "      <td>Kensington</td>\n",
              "      <td>40.64749</td>\n",
              "      <td>-73.97237</td>\n",
              "      <td>Private room</td>\n",
              "      <td>149</td>\n",
              "      <td>1</td>\n",
              "      <td>9</td>\n",
              "      <td>2018-10-19</td>\n",
              "      <td>0.21</td>\n",
              "      <td>6</td>\n",
              "      <td>365</td>\n",
              "      <td>10</td>\n",
              "    </tr>\n",
              "    <tr>\n",
              "      <th>1</th>\n",
              "      <td>2595</td>\n",
              "      <td>Skylit Midtown Castle</td>\n",
              "      <td>2845</td>\n",
              "      <td>Jennifer</td>\n",
              "      <td>Manhattan</td>\n",
              "      <td>Midtown</td>\n",
              "      <td>40.75362</td>\n",
              "      <td>-73.98377</td>\n",
              "      <td>Entire home/apt</td>\n",
              "      <td>225</td>\n",
              "      <td>1</td>\n",
              "      <td>45</td>\n",
              "      <td>2019-05-21</td>\n",
              "      <td>0.38</td>\n",
              "      <td>2</td>\n",
              "      <td>355</td>\n",
              "      <td>5</td>\n",
              "    </tr>\n",
              "    <tr>\n",
              "      <th>2</th>\n",
              "      <td>3647</td>\n",
              "      <td>THE VILLAGE OF HARLEM....NEW YORK !</td>\n",
              "      <td>4632</td>\n",
              "      <td>Elisabeth</td>\n",
              "      <td>Manhattan</td>\n",
              "      <td>Harlem</td>\n",
              "      <td>40.80902</td>\n",
              "      <td>-73.94190</td>\n",
              "      <td>Private room</td>\n",
              "      <td>150</td>\n",
              "      <td>3</td>\n",
              "      <td>0</td>\n",
              "      <td>1970-01-01</td>\n",
              "      <td>0.00</td>\n",
              "      <td>1</td>\n",
              "      <td>365</td>\n",
              "      <td>1</td>\n",
              "    </tr>\n",
              "    <tr>\n",
              "      <th>3</th>\n",
              "      <td>3831</td>\n",
              "      <td>Cozy Entire Floor of Brownstone</td>\n",
              "      <td>4869</td>\n",
              "      <td>LisaRoxanne</td>\n",
              "      <td>Brooklyn</td>\n",
              "      <td>Clinton Hill</td>\n",
              "      <td>40.68514</td>\n",
              "      <td>-73.95976</td>\n",
              "      <td>Entire home/apt</td>\n",
              "      <td>89</td>\n",
              "      <td>1</td>\n",
              "      <td>270</td>\n",
              "      <td>2019-07-05</td>\n",
              "      <td>4.64</td>\n",
              "      <td>1</td>\n",
              "      <td>194</td>\n",
              "      <td>7</td>\n",
              "    </tr>\n",
              "    <tr>\n",
              "      <th>4</th>\n",
              "      <td>5022</td>\n",
              "      <td>Entire Apt: Spacious Studio/Loft by central park</td>\n",
              "      <td>7192</td>\n",
              "      <td>Laura</td>\n",
              "      <td>Manhattan</td>\n",
              "      <td>East Harlem</td>\n",
              "      <td>40.79851</td>\n",
              "      <td>-73.94399</td>\n",
              "      <td>Entire home/apt</td>\n",
              "      <td>80</td>\n",
              "      <td>10</td>\n",
              "      <td>9</td>\n",
              "      <td>2018-11-19</td>\n",
              "      <td>0.10</td>\n",
              "      <td>1</td>\n",
              "      <td>0</td>\n",
              "      <td>11</td>\n",
              "    </tr>\n",
              "    <tr>\n",
              "      <th>...</th>\n",
              "      <td>...</td>\n",
              "      <td>...</td>\n",
              "      <td>...</td>\n",
              "      <td>...</td>\n",
              "      <td>...</td>\n",
              "      <td>...</td>\n",
              "      <td>...</td>\n",
              "      <td>...</td>\n",
              "      <td>...</td>\n",
              "      <td>...</td>\n",
              "      <td>...</td>\n",
              "      <td>...</td>\n",
              "      <td>...</td>\n",
              "      <td>...</td>\n",
              "      <td>...</td>\n",
              "      <td>...</td>\n",
              "      <td>...</td>\n",
              "    </tr>\n",
              "    <tr>\n",
              "      <th>48890</th>\n",
              "      <td>36484665</td>\n",
              "      <td>Charming one bedroom - newly renovated rowhouse</td>\n",
              "      <td>8232441</td>\n",
              "      <td>Sabrina</td>\n",
              "      <td>Brooklyn</td>\n",
              "      <td>Bedford-Stuyvesant</td>\n",
              "      <td>40.67853</td>\n",
              "      <td>-73.94995</td>\n",
              "      <td>Private room</td>\n",
              "      <td>70</td>\n",
              "      <td>2</td>\n",
              "      <td>0</td>\n",
              "      <td>1970-01-01</td>\n",
              "      <td>0.00</td>\n",
              "      <td>2</td>\n",
              "      <td>9</td>\n",
              "      <td>1</td>\n",
              "    </tr>\n",
              "    <tr>\n",
              "      <th>48891</th>\n",
              "      <td>36485057</td>\n",
              "      <td>Affordable room in Bushwick/East Williamsburg</td>\n",
              "      <td>6570630</td>\n",
              "      <td>Marisol</td>\n",
              "      <td>Brooklyn</td>\n",
              "      <td>Bushwick</td>\n",
              "      <td>40.70184</td>\n",
              "      <td>-73.93317</td>\n",
              "      <td>Private room</td>\n",
              "      <td>40</td>\n",
              "      <td>4</td>\n",
              "      <td>0</td>\n",
              "      <td>1970-01-01</td>\n",
              "      <td>0.00</td>\n",
              "      <td>2</td>\n",
              "      <td>36</td>\n",
              "      <td>1</td>\n",
              "    </tr>\n",
              "    <tr>\n",
              "      <th>48892</th>\n",
              "      <td>36485431</td>\n",
              "      <td>Sunny Studio at Historical Neighborhood</td>\n",
              "      <td>23492952</td>\n",
              "      <td>Ilgar &amp; Aysel</td>\n",
              "      <td>Manhattan</td>\n",
              "      <td>Harlem</td>\n",
              "      <td>40.81475</td>\n",
              "      <td>-73.94867</td>\n",
              "      <td>Entire home/apt</td>\n",
              "      <td>115</td>\n",
              "      <td>10</td>\n",
              "      <td>0</td>\n",
              "      <td>1970-01-01</td>\n",
              "      <td>0.00</td>\n",
              "      <td>1</td>\n",
              "      <td>27</td>\n",
              "      <td>1</td>\n",
              "    </tr>\n",
              "    <tr>\n",
              "      <th>48893</th>\n",
              "      <td>36485609</td>\n",
              "      <td>43rd St. Time Square-cozy single bed</td>\n",
              "      <td>30985759</td>\n",
              "      <td>Taz</td>\n",
              "      <td>Manhattan</td>\n",
              "      <td>Hell's Kitchen</td>\n",
              "      <td>40.75751</td>\n",
              "      <td>-73.99112</td>\n",
              "      <td>Shared room</td>\n",
              "      <td>55</td>\n",
              "      <td>1</td>\n",
              "      <td>0</td>\n",
              "      <td>1970-01-01</td>\n",
              "      <td>0.00</td>\n",
              "      <td>6</td>\n",
              "      <td>2</td>\n",
              "      <td>1</td>\n",
              "    </tr>\n",
              "    <tr>\n",
              "      <th>48894</th>\n",
              "      <td>36487245</td>\n",
              "      <td>Trendy duplex in the very heart of Hell's Kitchen</td>\n",
              "      <td>68119814</td>\n",
              "      <td>Christophe</td>\n",
              "      <td>Manhattan</td>\n",
              "      <td>Hell's Kitchen</td>\n",
              "      <td>40.76404</td>\n",
              "      <td>-73.98933</td>\n",
              "      <td>Private room</td>\n",
              "      <td>90</td>\n",
              "      <td>7</td>\n",
              "      <td>0</td>\n",
              "      <td>1970-01-01</td>\n",
              "      <td>0.00</td>\n",
              "      <td>1</td>\n",
              "      <td>23</td>\n",
              "      <td>1</td>\n",
              "    </tr>\n",
              "  </tbody>\n",
              "</table>\n",
              "<p>48858 rows × 17 columns</p>\n",
              "</div>\n",
              "      <button class=\"colab-df-convert\" onclick=\"convertToInteractive('df-550564ec-7e49-4e32-8722-cc9bf1238b53')\"\n",
              "              title=\"Convert this dataframe to an interactive table.\"\n",
              "              style=\"display:none;\">\n",
              "        \n",
              "  <svg xmlns=\"http://www.w3.org/2000/svg\" height=\"24px\"viewBox=\"0 0 24 24\"\n",
              "       width=\"24px\">\n",
              "    <path d=\"M0 0h24v24H0V0z\" fill=\"none\"/>\n",
              "    <path d=\"M18.56 5.44l.94 2.06.94-2.06 2.06-.94-2.06-.94-.94-2.06-.94 2.06-2.06.94zm-11 1L8.5 8.5l.94-2.06 2.06-.94-2.06-.94L8.5 2.5l-.94 2.06-2.06.94zm10 10l.94 2.06.94-2.06 2.06-.94-2.06-.94-.94-2.06-.94 2.06-2.06.94z\"/><path d=\"M17.41 7.96l-1.37-1.37c-.4-.4-.92-.59-1.43-.59-.52 0-1.04.2-1.43.59L10.3 9.45l-7.72 7.72c-.78.78-.78 2.05 0 2.83L4 21.41c.39.39.9.59 1.41.59.51 0 1.02-.2 1.41-.59l7.78-7.78 2.81-2.81c.8-.78.8-2.07 0-2.86zM5.41 20L4 18.59l7.72-7.72 1.47 1.35L5.41 20z\"/>\n",
              "  </svg>\n",
              "      </button>\n",
              "      \n",
              "  <style>\n",
              "    .colab-df-container {\n",
              "      display:flex;\n",
              "      flex-wrap:wrap;\n",
              "      gap: 12px;\n",
              "    }\n",
              "\n",
              "    .colab-df-convert {\n",
              "      background-color: #E8F0FE;\n",
              "      border: none;\n",
              "      border-radius: 50%;\n",
              "      cursor: pointer;\n",
              "      display: none;\n",
              "      fill: #1967D2;\n",
              "      height: 32px;\n",
              "      padding: 0 0 0 0;\n",
              "      width: 32px;\n",
              "    }\n",
              "\n",
              "    .colab-df-convert:hover {\n",
              "      background-color: #E2EBFA;\n",
              "      box-shadow: 0px 1px 2px rgba(60, 64, 67, 0.3), 0px 1px 3px 1px rgba(60, 64, 67, 0.15);\n",
              "      fill: #174EA6;\n",
              "    }\n",
              "\n",
              "    [theme=dark] .colab-df-convert {\n",
              "      background-color: #3B4455;\n",
              "      fill: #D2E3FC;\n",
              "    }\n",
              "\n",
              "    [theme=dark] .colab-df-convert:hover {\n",
              "      background-color: #434B5C;\n",
              "      box-shadow: 0px 1px 3px 1px rgba(0, 0, 0, 0.15);\n",
              "      filter: drop-shadow(0px 1px 2px rgba(0, 0, 0, 0.3));\n",
              "      fill: #FFFFFF;\n",
              "    }\n",
              "  </style>\n",
              "\n",
              "      <script>\n",
              "        const buttonEl =\n",
              "          document.querySelector('#df-550564ec-7e49-4e32-8722-cc9bf1238b53 button.colab-df-convert');\n",
              "        buttonEl.style.display =\n",
              "          google.colab.kernel.accessAllowed ? 'block' : 'none';\n",
              "\n",
              "        async function convertToInteractive(key) {\n",
              "          const element = document.querySelector('#df-550564ec-7e49-4e32-8722-cc9bf1238b53');\n",
              "          const dataTable =\n",
              "            await google.colab.kernel.invokeFunction('convertToInteractive',\n",
              "                                                     [key], {});\n",
              "          if (!dataTable) return;\n",
              "\n",
              "          const docLinkHtml = 'Like what you see? Visit the ' +\n",
              "            '<a target=\"_blank\" href=https://colab.research.google.com/notebooks/data_table.ipynb>data table notebook</a>'\n",
              "            + ' to learn more about interactive tables.';\n",
              "          element.innerHTML = '';\n",
              "          dataTable['output_type'] = 'display_data';\n",
              "          await google.colab.output.renderOutput(dataTable, element);\n",
              "          const docLink = document.createElement('div');\n",
              "          docLink.innerHTML = docLinkHtml;\n",
              "          element.appendChild(docLink);\n",
              "        }\n",
              "      </script>\n",
              "    </div>\n",
              "  </div>\n",
              "  "
            ]
          },
          "metadata": {},
          "execution_count": 14
        }
      ]
    },
    {
      "cell_type": "code",
      "source": [
        "# Group the data by month and calculate the sum of reviews\n",
        "reviews_by_month = airbnbny.groupby('month_review').agg({'number_of_reviews': 'sum', 'month_review': 'sum'})\n",
        "\n",
        "# Print the result\n",
        "print(reviews_by_month)\n"
      ],
      "metadata": {
        "colab": {
          "base_uri": "https://localhost:8080/"
        },
        "id": "r8TYLtNN7vvn",
        "outputId": "71fd5d92-b24e-4c57-9f9b-01366d8bf46a"
      },
      "execution_count": 15,
      "outputs": [
        {
          "output_type": "stream",
          "name": "stdout",
          "text": [
            "              number_of_reviews  month_review\n",
            "month_review                                 \n",
            "1                         30786         12803\n",
            "2                          9472          1540\n",
            "3                         15032          3864\n",
            "4                         30588          8436\n",
            "5                         94837         23500\n",
            "6                        628203         81516\n",
            "7                        253350         41531\n",
            "8                         12817         13304\n",
            "9                         14243         13815\n",
            "10                        15167         15450\n",
            "11                        12246         12727\n",
            "12                        20336         21228\n"
          ]
        }
      ]
    },
    {
      "cell_type": "code",
      "source": [
        "# Get the month with the most reviews\n",
        "most_reviews_month = reviews_by_month['number_of_reviews'].idxmax()\n",
        "\n",
        "# Print a message indicating which month had the most reviews\n",
        "print(f\"The busiest month for Airbnb in New York City was the month {most_reviews_month} th, with a total of {reviews_by_month.loc[most_reviews_month, 'number_of_reviews']} reviews.\")\n"
      ],
      "metadata": {
        "colab": {
          "base_uri": "https://localhost:8080/"
        },
        "id": "spQ1niqSAT44",
        "outputId": "ee5ee4dc-e130-43b4-de7f-04df7190f96a"
      },
      "execution_count": 16,
      "outputs": [
        {
          "output_type": "stream",
          "name": "stdout",
          "text": [
            "The busiest month for Airbnb in New York City was the month 6 th, with a total of 628203 reviews.\n"
          ]
        }
      ]
    },
    {
      "cell_type": "code",
      "source": [
        "# Create a line chart of the sum of reviews by month\n",
        "plt.plot(reviews_by_month.index, reviews_by_month['number_of_reviews'], color='green')\n",
        "\n",
        "# Set the chart title and axis labels\n",
        "plt.title('Peak Month of Airbnb demand in NYC based on Reviews')\n",
        "plt.xlabel('Month')\n",
        "plt.ylabel('Number of Reviews')\n",
        "\n",
        "# Show the chart\n",
        "plt.show()"
      ],
      "metadata": {
        "colab": {
          "base_uri": "https://localhost:8080/",
          "height": 0
        },
        "id": "jdhgInO-_UMP",
        "outputId": "7f6667d0-eefe-4658-8ce9-1af2ed310eea"
      },
      "execution_count": 17,
      "outputs": [
        {
          "output_type": "display_data",
          "data": {
            "text/plain": [
              "<Figure size 640x480 with 1 Axes>"
            ],
            "image/png": "[encoded data removed]"
          },
          "metadata": {}
        }
      ]
    },
    {
      "cell_type": "markdown",
      "source": [
        "Based on the number review per month\n",
        "In June, the number of reviews is significantly higher than any other month, with a total of 628,203 reviews. This could be due to the summer season and increased tourism in the city during that time.\n",
        "\n",
        "May also has a high number of reviews with 94,837, which may indicate a peak travel period before the summer months.\n",
        "\n",
        "Other months with relatively high numbers of reviews include July (253,350), April (30,588), and December (20,336).\n",
        "\n",
        "In contrast, February has the lowest number of reviews with only 9,472, followed by March with 15,032. This may indicate a slower travel period during the winter months."
      ],
      "metadata": {
        "id": "xQLXPzTtdCDK"
      }
    },
    {
      "cell_type": "markdown",
      "source": [
        "See this in our interactive dashboard of total booking by month and neighborhood group."
      ],
      "metadata": {
        "id": "bVdvAbGDrbUc"
      }
    },
    {
      "cell_type": "markdown",
      "source": [
        "## Most expensive area in NYC"
      ],
      "metadata": {
        "id": "qIsvfSQkT3q8"
      }
    },
    {
      "cell_type": "markdown",
      "source": [
        "Where are the most expensive Airbnb listings located in New York City based on neighborhood and room type?"
      ],
      "metadata": {
        "id": "MHN2nKF3AmuM"
      }
    },
    {
      "cell_type": "code",
      "source": [
        "# Group the data by neighborhood and room type, and calculate the mean price for each group\n",
        "expensive_listings = airbnbny.groupby(['neighbourhood_group', 'neighbourhood', 'room_type']).agg({'price': 'mean'})\n",
        "\n",
        "# Sort the data in descending order based on the mean price\n",
        "expensive_listings = expensive_listings.sort_values(by='price', ascending=False)\n",
        "\n",
        "# Get the top 10 most expensive listings\n",
        "top_10_expensive = expensive_listings.head(10)\n",
        "\n",
        "top_10_expensive \n"
      ],
      "metadata": {
        "colab": {
          "base_uri": "https://localhost:8080/",
          "height": 0
        },
        "id": "88nGvhV6ArXk",
        "outputId": "ed4a8128-1c70-4842-f326-9ce475c57568"
      },
      "execution_count": 18,
      "outputs": [
        {
          "output_type": "execute_result",
          "data": {
            "text/plain": [
              "                                                            price\n",
              "neighbourhood_group neighbourhood     room_type                  \n",
              "Bronx               Riverdale         Private room     803.500000\n",
              "                                      Shared room      800.000000\n",
              "Staten Island       Fort Wadsworth    Entire home/apt  800.000000\n",
              "                    Woodrow           Entire home/apt  700.000000\n",
              "                    Randall Manor     Entire home/apt  651.000000\n",
              "Brooklyn            Sea Gate          Entire home/apt  649.400000\n",
              "Manhattan           Tribeca           Entire home/apt  561.818182\n",
              "Staten Island       Prince's Bay      Entire home/apt  506.666667\n",
              "Manhattan           Battery Park City Entire home/apt  490.425532\n",
              "                    Flatiron District Entire home/apt  388.000000"
            ],
            "text/html": [
              "\n",
              "  <div id=\"df-7a9afbff-c0c8-4aa4-aeea-70a614243f05\">\n",
              "    <div class=\"colab-df-container\">\n",
              "      <div>\n",
              "<style scoped>\n",
              "    .dataframe tbody tr th:only-of-type {\n",
              "        vertical-align: middle;\n",
              "    }\n",
              "\n",
              "    .dataframe tbody tr th {\n",
              "        vertical-align: top;\n",
              "    }\n",
              "\n",
              "    .dataframe thead th {\n",
              "        text-align: right;\n",
              "    }\n",
              "</style>\n",
              "<table border=\"1\" class=\"dataframe\">\n",
              "  <thead>\n",
              "    <tr style=\"text-align: right;\">\n",
              "      <th></th>\n",
              "      <th></th>\n",
              "      <th></th>\n",
              "      <th>price</th>\n",
              "    </tr>\n",
              "    <tr>\n",
              "      <th>neighbourhood_group</th>\n",
              "      <th>neighbourhood</th>\n",
              "      <th>room_type</th>\n",
              "      <th></th>\n",
              "    </tr>\n",
              "  </thead>\n",
              "  <tbody>\n",
              "    <tr>\n",
              "      <th rowspan=\"2\" valign=\"top\">Bronx</th>\n",
              "      <th rowspan=\"2\" valign=\"top\">Riverdale</th>\n",
              "      <th>Private room</th>\n",
              "      <td>803.500000</td>\n",
              "    </tr>\n",
              "    <tr>\n",
              "      <th>Shared room</th>\n",
              "      <td>800.000000</td>\n",
              "    </tr>\n",
              "    <tr>\n",
              "      <th rowspan=\"3\" valign=\"top\">Staten Island</th>\n",
              "      <th>Fort Wadsworth</th>\n",
              "      <th>Entire home/apt</th>\n",
              "      <td>800.000000</td>\n",
              "    </tr>\n",
              "    <tr>\n",
              "      <th>Woodrow</th>\n",
              "      <th>Entire home/apt</th>\n",
              "      <td>700.000000</td>\n",
              "    </tr>\n",
              "    <tr>\n",
              "      <th>Randall Manor</th>\n",
              "      <th>Entire home/apt</th>\n",
              "      <td>651.000000</td>\n",
              "    </tr>\n",
              "    <tr>\n",
              "      <th>Brooklyn</th>\n",
              "      <th>Sea Gate</th>\n",
              "      <th>Entire home/apt</th>\n",
              "      <td>649.400000</td>\n",
              "    </tr>\n",
              "    <tr>\n",
              "      <th>Manhattan</th>\n",
              "      <th>Tribeca</th>\n",
              "      <th>Entire home/apt</th>\n",
              "      <td>561.818182</td>\n",
              "    </tr>\n",
              "    <tr>\n",
              "      <th>Staten Island</th>\n",
              "      <th>Prince's Bay</th>\n",
              "      <th>Entire home/apt</th>\n",
              "      <td>506.666667</td>\n",
              "    </tr>\n",
              "    <tr>\n",
              "      <th rowspan=\"2\" valign=\"top\">Manhattan</th>\n",
              "      <th>Battery Park City</th>\n",
              "      <th>Entire home/apt</th>\n",
              "      <td>490.425532</td>\n",
              "    </tr>\n",
              "    <tr>\n",
              "      <th>Flatiron District</th>\n",
              "      <th>Entire home/apt</th>\n",
              "      <td>388.000000</td>\n",
              "    </tr>\n",
              "  </tbody>\n",
              "</table>\n",
              "</div>\n",
              "      <button class=\"colab-df-convert\" onclick=\"convertToInteractive('df-7a9afbff-c0c8-4aa4-aeea-70a614243f05')\"\n",
              "              title=\"Convert this dataframe to an interactive table.\"\n",
              "              style=\"display:none;\">\n",
              "        \n",
              "  <svg xmlns=\"http://www.w3.org/2000/svg\" height=\"24px\"viewBox=\"0 0 24 24\"\n",
              "       width=\"24px\">\n",
              "    <path d=\"M0 0h24v24H0V0z\" fill=\"none\"/>\n",
              "    <path d=\"M18.56 5.44l.94 2.06.94-2.06 2.06-.94-2.06-.94-.94-2.06-.94 2.06-2.06.94zm-11 1L8.5 8.5l.94-2.06 2.06-.94-2.06-.94L8.5 2.5l-.94 2.06-2.06.94zm10 10l.94 2.06.94-2.06 2.06-.94-2.06-.94-.94-2.06-.94 2.06-2.06.94z\"/><path d=\"M17.41 7.96l-1.37-1.37c-.4-.4-.92-.59-1.43-.59-.52 0-1.04.2-1.43.59L10.3 9.45l-7.72 7.72c-.78.78-.78 2.05 0 2.83L4 21.41c.39.39.9.59 1.41.59.51 0 1.02-.2 1.41-.59l7.78-7.78 2.81-2.81c.8-.78.8-2.07 0-2.86zM5.41 20L4 18.59l7.72-7.72 1.47 1.35L5.41 20z\"/>\n",
              "  </svg>\n",
              "      </button>\n",
              "      \n",
              "  <style>\n",
              "    .colab-df-container {\n",
              "      display:flex;\n",
              "      flex-wrap:wrap;\n",
              "      gap: 12px;\n",
              "    }\n",
              "\n",
              "    .colab-df-convert {\n",
              "      background-color: #E8F0FE;\n",
              "      border: none;\n",
              "      border-radius: 50%;\n",
              "      cursor: pointer;\n",
              "      display: none;\n",
              "      fill: #1967D2;\n",
              "      height: 32px;\n",
              "      padding: 0 0 0 0;\n",
              "      width: 32px;\n",
              "    }\n",
              "\n",
              "    .colab-df-convert:hover {\n",
              "      background-color: #E2EBFA;\n",
              "      box-shadow: 0px 1px 2px rgba(60, 64, 67, 0.3), 0px 1px 3px 1px rgba(60, 64, 67, 0.15);\n",
              "      fill: #174EA6;\n",
              "    }\n",
              "\n",
              "    [theme=dark] .colab-df-convert {\n",
              "      background-color: #3B4455;\n",
              "      fill: #D2E3FC;\n",
              "    }\n",
              "\n",
              "    [theme=dark] .colab-df-convert:hover {\n",
              "      background-color: #434B5C;\n",
              "      box-shadow: 0px 1px 3px 1px rgba(0, 0, 0, 0.15);\n",
              "      filter: drop-shadow(0px 1px 2px rgba(0, 0, 0, 0.3));\n",
              "      fill: #FFFFFF;\n",
              "    }\n",
              "  </style>\n",
              "\n",
              "      <script>\n",
              "        const buttonEl =\n",
              "          document.querySelector('#df-7a9afbff-c0c8-4aa4-aeea-70a614243f05 button.colab-df-convert');\n",
              "        buttonEl.style.display =\n",
              "          google.colab.kernel.accessAllowed ? 'block' : 'none';\n",
              "\n",
              "        async function convertToInteractive(key) {\n",
              "          const element = document.querySelector('#df-7a9afbff-c0c8-4aa4-aeea-70a614243f05');\n",
              "          const dataTable =\n",
              "            await google.colab.kernel.invokeFunction('convertToInteractive',\n",
              "                                                     [key], {});\n",
              "          if (!dataTable) return;\n",
              "\n",
              "          const docLinkHtml = 'Like what you see? Visit the ' +\n",
              "            '<a target=\"_blank\" href=https://colab.research.google.com/notebooks/data_table.ipynb>data table notebook</a>'\n",
              "            + ' to learn more about interactive tables.';\n",
              "          element.innerHTML = '';\n",
              "          dataTable['output_type'] = 'display_data';\n",
              "          await google.colab.output.renderOutput(dataTable, element);\n",
              "          const docLink = document.createElement('div');\n",
              "          docLink.innerHTML = docLinkHtml;\n",
              "          element.appendChild(docLink);\n",
              "        }\n",
              "      </script>\n",
              "    </div>\n",
              "  </div>\n",
              "  "
            ]
          },
          "metadata": {},
          "execution_count": 18
        }
      ]
    },
    {
      "cell_type": "code",
      "source": [
        "# Create a bar plot\n",
        "fig, ax = plt.subplots(figsize=(12, 6))\n",
        "top_10_expensive.plot(kind='bar', ax=ax, color='red')\n",
        "\n",
        "# Set the title and labels\n",
        "ax.set_title('Top 10 Most Expensive Airbnb Listings in NYC by Neighborhood and Room Type')\n",
        "ax.set_xlabel('Neighborhood and Room Type')\n",
        "ax.set_ylabel('Mean Price')\n",
        "\n",
        "# Rotate the x-axis labels for better readability\n",
        "plt.xticks(rotation=45)\n",
        "\n",
        "# Show the plot\n",
        "plt.show()"
      ],
      "metadata": {
        "colab": {
          "base_uri": "https://localhost:8080/",
          "height": 0
        },
        "id": "m0A65pYcBASu",
        "outputId": "64ccb82c-275b-42e5-89c9-f5a14c8a0835"
      },
      "execution_count": 19,
      "outputs": [
        {
          "output_type": "display_data",
          "data": {
            "text/plain": [
              "<Figure size 1200x600 with 1 Axes>"
            ],
            "image/png": "[encoded data removed]"
          },
          "metadata": {}
        }
      ]
    },
    {
      "cell_type": "markdown",
      "source": [
        "Its startling that the highest average price for a private room is in Riverdale, Bronx and for a shared room is in Bronx as well. This suggests that Airbnb guests looking for a more affordable option may find better deals in other boroughs or neighborhoods.\n",
        "\n",
        "The most expensive entire home/apartment listings in Manhattan are found in Tribeca and Battery Park City, which are both affluent and upscale neighborhoods with high-end restaurants, shopping and entertainment options. This suggests that guests looking for a luxurious stay in the heart of Manhattan may want to consider these neighborhoods.\n"
      ],
      "metadata": {
        "id": "asXdlzdmd3DL"
      }
    },
    {
      "cell_type": "markdown",
      "source": [
        "See this in our interactive dashboard of average price in neighbourhoods room type."
      ],
      "metadata": {
        "id": "qFtGXkFUrzES"
      }
    },
    {
      "cell_type": "markdown",
      "source": [
        "## AirBnB Top Host"
      ],
      "metadata": {
        "id": "Y6dtWDdxUHsL"
      }
    },
    {
      "cell_type": "markdown",
      "source": [
        "Who are the top hosts in New York City based on the number of listings and calculated host listings count?"
      ],
      "metadata": {
        "id": "mKj9u_HWCCi6"
      }
    },
    {
      "cell_type": "code",
      "source": [
        "# Group the data by host id and host name, and calculate the number of listings for each host\n",
        "host_listings_count = airbnbny.groupby(['host_id', 'host_name']).agg({'id': 'count'})\n",
        "\n",
        "# Rename the column to be more descriptive\n",
        "host_listings_count = host_listings_count.rename(columns={'id': 'host_listings_count'})\n",
        "\n",
        "# Sort the data in descending order based on the number of listings\n",
        "host_listings_count = host_listings_count.sort_values(by='host_listings_count', ascending=False)\n",
        "\n",
        "# Get the top 10 hosts with the most listings\n",
        "top_10_hosts = host_listings_count.head(10)\n",
        "\n",
        "# Display the result\n",
        "print(top_10_hosts)\n"
      ],
      "metadata": {
        "colab": {
          "base_uri": "https://localhost:8080/"
        },
        "id": "LJX_muasDA7q",
        "outputId": "6d5f259f-ca91-40d7-c712-9fc4e88514aa"
      },
      "execution_count": 20,
      "outputs": [
        {
          "output_type": "stream",
          "name": "stdout",
          "text": [
            "                             host_listings_count\n",
            "host_id   host_name                             \n",
            "219517861 Sonder (NYC)                       327\n",
            "107434423 Blueground                         232\n",
            "30283594  Kara                               121\n",
            "137358866 Kazuya                             103\n",
            "12243051  Sonder                              96\n",
            "16098958  Jeremy & Laura                      96\n",
            "61391963  Corporate Housing                   91\n",
            "22541573  Ken                                 87\n",
            "200380610 Pranjal                             65\n",
            "1475015   Mike                                52\n"
          ]
        }
      ]
    },
    {
      "cell_type": "code",
      "source": [
        "# Create a horizontal bar plot\n",
        "plt.barh(top_10_hosts.index.get_level_values('host_name'), \n",
        "         top_10_hosts['host_listings_count'], \n",
        "         color='purple')\n",
        "\n",
        "# Set the plot title and axis labels\n",
        "plt.title('Top 10 Hosts with the Most Listings in NYC')\n",
        "plt.xlabel('Number of Listings')\n",
        "plt.ylabel('Host Name')\n",
        "\n",
        "# Display the plot\n",
        "plt.show()"
      ],
      "metadata": {
        "colab": {
          "base_uri": "https://localhost:8080/",
          "height": 0
        },
        "id": "l9Cap8N6EaI-",
        "outputId": "2a8690b2-2f01-4993-eed1-71d549054d73"
      },
      "execution_count": 21,
      "outputs": [
        {
          "output_type": "display_data",
          "data": {
            "text/plain": [
              "<Figure size 640x480 with 1 Axes>"
            ],
            "image/png": "[encoded data removed]"
          },
          "metadata": {}
        }
      ]
    },
    {
      "cell_type": "markdown",
      "source": [
        "from the barchart above we can see that Sonder (NYC) are host the most Airbnb Property in NYC. By hosting a tremendous amount of property, sonder wish to deliver hospitality that’s both remarkable and accessible. Because like their goals sonder wish that everyone should be able to afford an extraordinary place to stay."
      ],
      "metadata": {
        "id": "R4CMmj9UmOW_"
      }
    },
    {
      "cell_type": "markdown",
      "source": [
        "See this on our interactive dashboard of average price in top 10 host by total reviews"
      ],
      "metadata": {
        "id": "4_pccjmG0raN"
      }
    },
    {
      "cell_type": "markdown",
      "source": [
        "## Potential pricing error in AirBnB NY Listing"
      ],
      "metadata": {
        "id": "f3z1tPfp_Qid"
      }
    },
    {
      "cell_type": "code",
      "source": [
        "# Calculate basic statistics of price\n",
        "print(f\"min accomodation price in new york {airbnbny['price'].min()}\")\n",
        "print(f\"max accomodation price in new york {airbnbny['price'].max()}\")\n",
        "print(f\"median accomodation price in new york {airbnbny['price'].median()}\")\n",
        "print(f\"mean accomodation price in new york {airbnbny['price'].mean()}\")\n",
        "print(f\"mode accomodation price in new york {airbnbny['price'].mode(0)}\")\n",
        "print(f\"std dev accomodation price in new york {airbnbny['price'].std()}\")\n",
        "print(f\"variance accomodation price in new york {airbnbny['price'].var()}\")"
      ],
      "metadata": {
        "colab": {
          "base_uri": "https://localhost:8080/"
        },
        "id": "UoIk2frAB5EF",
        "outputId": "9a1cf5e0-9d88-4fb3-97e0-1f5fee8144ba"
      },
      "execution_count": 22,
      "outputs": [
        {
          "output_type": "stream",
          "name": "stdout",
          "text": [
            "min accomodation price in new york 0\n",
            "max accomodation price in new york 10000\n",
            "median accomodation price in new york 106.0\n",
            "mean accomodation price in new york 152.74030864955586\n",
            "mode accomodation price in new york 0    100\n",
            "Name: price, dtype: int64\n",
            "std dev accomodation price in new york 240.23238552518896\n",
            "variance accomodation price in new york 57711.59905512301\n"
          ]
        }
      ]
    },
    {
      "cell_type": "code",
      "source": [
        "# Calculate the mean, median, and mode of the accommodation prices\n",
        "mean_price = airbnbny['price'].mean()\n",
        "median_price = airbnbny['price'].median()\n",
        "mode_price = airbnbny['price'].mode()[0]\n",
        "\n",
        "# Create a histogram of the accommodation prices\n",
        "plt.hist(airbnbny['price'],bins=25)\n",
        "plt.axvline(x=mean_price, color='red', label='Mean', linestyle='dashed', linewidth=2);\n",
        "plt.axvline(x=median_price, color='green', label='Median', linestyle='dashed', linewidth=2);\n",
        "plt.axvline(x=mode_price, color='orange', label='Mode', linestyle='dashed', linewidth=2);\n",
        "plt.legend()\n",
        "plt.show()"
      ],
      "metadata": {
        "colab": {
          "base_uri": "https://localhost:8080/",
          "height": 0
        },
        "id": "qbhfkOBvGhY8",
        "outputId": "85d752df-defc-4b68-e453-46d35c72f901"
      },
      "execution_count": 23,
      "outputs": [
        {
          "output_type": "display_data",
          "data": {
            "text/plain": [
              "<Figure size 640x480 with 1 Axes>"
            ],
            "image/png": "[encoded data removed]"
          },
          "metadata": {}
        }
      ]
    },
    {
      "cell_type": "markdown",
      "source": [
        "Based on the mean and median values, it seems that the distribution of accommodation prices in New York is right-skewed or positively skewed, since the mean is greater than the median. Additionally, the mode is 100, which is lower than both the mean and median, further indicating that the distribution is skewed to the right."
      ],
      "metadata": {
        "id": "YE2SqH6EJo02"
      }
    },
    {
      "cell_type": "markdown",
      "source": [
        "To identify any potential pricing errors, we can look for outliers in the price distribution. In this analysis we will use box plot and tukey's rule"
      ],
      "metadata": {
        "id": "fGanCe5XJz-a"
      }
    },
    {
      "cell_type": "code",
      "source": [
        "#boxplot\n",
        "airbnbny['price'].plot(kind='box', title='NY AirBnB Prices');"
      ],
      "metadata": {
        "colab": {
          "base_uri": "https://localhost:8080/",
          "height": 0
        },
        "id": "bGoR076yJoEn",
        "outputId": "6f63d545-33b5-48e3-b2f7-d6d8138cadf7"
      },
      "execution_count": 24,
      "outputs": [
        {
          "output_type": "display_data",
          "data": {
            "text/plain": [
              "<Figure size 640x480 with 1 Axes>"
            ],
            "image/png": "[encoded data removed]"
          },
          "metadata": {}
        }
      ]
    },
    {
      "cell_type": "markdown",
      "source": [
        "looking at the box plot, we can se that there's some anomalies prices that fall far beyond the average price range. so to minimalize the anomalies data we should treat it with tukey's rule which design to treat outliers for data with unormal distribution. "
      ],
      "metadata": {
        "id": "io2_W-s6lpfd"
      }
    },
    {
      "cell_type": "code",
      "source": [
        "airbnbprice = airbnbny.copy()"
      ],
      "metadata": {
        "id": "LyYOj-BPLDrm"
      },
      "execution_count": 25,
      "outputs": []
    },
    {
      "cell_type": "code",
      "source": [
        "#define q1 dan q3\n",
        "q1= airbnbprice['price'].quantile(0.25)\n",
        "q3= airbnbprice['price'].quantile(0.75)\n",
        "q1,q3"
      ],
      "metadata": {
        "colab": {
          "base_uri": "https://localhost:8080/"
        },
        "id": "Vs7D5BMxOJ2N",
        "outputId": "b44a2dac-b843-4377-8b09-d5e9ce00cd59"
      },
      "execution_count": 26,
      "outputs": [
        {
          "output_type": "execute_result",
          "data": {
            "text/plain": [
              "(69.0, 175.0)"
            ]
          },
          "metadata": {},
          "execution_count": 26
        }
      ]
    },
    {
      "cell_type": "code",
      "source": [
        "#tukey's rule\n",
        "IQR = q3 - q1\n",
        "IQR"
      ],
      "metadata": {
        "colab": {
          "base_uri": "https://localhost:8080/"
        },
        "id": "4f2UozauOVIO",
        "outputId": "bfe61198-4df0-416f-af89-f4c0f7087704"
      },
      "execution_count": 27,
      "outputs": [
        {
          "output_type": "execute_result",
          "data": {
            "text/plain": [
              "106.0"
            ]
          },
          "metadata": {},
          "execution_count": 27
        }
      ]
    },
    {
      "cell_type": "code",
      "source": [
        "# define upper and lower limit\n",
        "upper_limit= q3 + 1.5*IQR\n",
        "lower_limit=q1 - 1.5*IQR\n",
        "\n",
        "print(upper_limit)\n",
        "print(lower_limit)"
      ],
      "metadata": {
        "colab": {
          "base_uri": "https://localhost:8080/"
        },
        "id": "7UqKqV-HOX7u",
        "outputId": "cdb23927-265b-4fac-e4ce-83e4028a479b"
      },
      "execution_count": 28,
      "outputs": [
        {
          "output_type": "stream",
          "name": "stdout",
          "text": [
            "334.0\n",
            "-90.0\n"
          ]
        }
      ]
    },
    {
      "cell_type": "code",
      "source": [
        "airbnbprice.shape"
      ],
      "metadata": {
        "colab": {
          "base_uri": "https://localhost:8080/"
        },
        "id": "lp7fEYYfObdD",
        "outputId": "17f642e3-3ec3-430e-8ca8-9080e9ddf907"
      },
      "execution_count": 29,
      "outputs": [
        {
          "output_type": "execute_result",
          "data": {
            "text/plain": [
              "(48858, 17)"
            ]
          },
          "metadata": {},
          "execution_count": 29
        }
      ]
    },
    {
      "cell_type": "code",
      "source": [
        "#check data above upper limit to identified any potential pricing error\n",
        "airbnbprice[airbnbprice['price']>upper_limit].shape"
      ],
      "metadata": {
        "colab": {
          "base_uri": "https://localhost:8080/"
        },
        "id": "GSxnf_eUOiLS",
        "outputId": "000176ca-269c-4bb4-99b8-da4a9e5a934e"
      },
      "execution_count": 30,
      "outputs": [
        {
          "output_type": "execute_result",
          "data": {
            "text/plain": [
              "(2971, 17)"
            ]
          },
          "metadata": {},
          "execution_count": 30
        }
      ]
    },
    {
      "cell_type": "code",
      "source": [
        "#define new dataframe to store data without anomalies\n",
        "airbnb_ok_price = airbnbprice[~(airbnbprice['price']>upper_limit)] \n",
        "airbnb_ok_price.shape"
      ],
      "metadata": {
        "colab": {
          "base_uri": "https://localhost:8080/"
        },
        "id": "RaB5pPU9O23U",
        "outputId": "7c7b72cd-6ddb-4d9c-c69e-bad735a8fab4"
      },
      "execution_count": 31,
      "outputs": [
        {
          "output_type": "execute_result",
          "data": {
            "text/plain": [
              "(45887, 17)"
            ]
          },
          "metadata": {},
          "execution_count": 31
        }
      ]
    },
    {
      "cell_type": "markdown",
      "source": [
        "oke so now whenever we need to looked at a data frame that store AirBnB accomodation in NY that falls between the reasonable prices, it'll store in airbnb_ok_price dataframe. "
      ],
      "metadata": {
        "id": "u8h_elMfPaQ-"
      }
    },
    {
      "cell_type": "markdown",
      "source": [
        "## Price Significancy of NY AirBnB Listing"
      ],
      "metadata": {
        "id": "vxDzVjx7QVOW"
      }
    },
    {
      "cell_type": "markdown",
      "source": [
        "According to The Real Deal realestate news, Manhattan is the most expensive borough in New york with highest average property sale price of $6.01 million in December 2022. In this case we want to know if there's a sifgnificant difference in the average rent rate of AirBnB per night between Manhattan and any other borough. To check whether the rent rate of city most prestigious area is the same compare with other area, we will perform the two sample two tailed and set the significance level of 0.05."
      ],
      "metadata": {
        "id": "n01NoEvpV0ax"
      }
    },
    {
      "cell_type": "markdown",
      "source": [
        "Our hypothesis on this case:\n",
        "\n",
        "H0: μ(Manhattan) = μ(other Borough)\n",
        "\n",
        "H1: μ(Manhattan) ≠ μ(other Borough)"
      ],
      "metadata": {
        "id": "JVIxGeuPZDpW"
      }
    },
    {
      "cell_type": "code",
      "source": [
        "# Filter the data to only include listings in Manhattan and other neighborhood groups\n",
        "manhattan_listings = airbnbny[airbnbny['neighbourhood_group'] == 'Manhattan']\n",
        "other_listings = airbnbny[airbnbny['neighbourhood_group'] != 'Manhattan']\n",
        "\n",
        "# Group the data by neighborhood group and calculate the average listing price for each group\n",
        "manhattan_price = manhattan_listings['price'].mean()\n",
        "other_price = other_listings['price'].mean()\n",
        "\n",
        "# Set the significance level\n",
        "alpha = 0.05\n",
        "\n",
        "# Perform a two-sample t-test to compare the average listing prices between Manhattan and the other neighborhood group\n",
        "t_stat, p_val = stats.ttest_ind(manhattan_listings['price'], other_listings['price'])\n",
        "\n",
        "# Print the results\n",
        "print(f\"Average price in Manhattan: {manhattan_price:.2f}\")\n",
        "print(f\"Average price in other neighborhoods: {other_price:.2f}\")\n",
        "print(f\"t-statistic: {t_stat:.2f}\")\n",
        "print(f\"p-value: {p_val:.2f}\")\n",
        "\n",
        "# Interpret the results\n",
        "if p_val < alpha:\n",
        "     print(\"Reject H0: There is a significant difference in the average rent rate of AirBnB property between Manhattan and other borough .\")\n",
        "else:\n",
        "    print(\"Fail to reject H0: There is no significant difference in the average rent rate of AirBnB property between Manhattan and other borough .\")"
      ],
      "metadata": {
        "colab": {
          "base_uri": "https://localhost:8080/"
        },
        "id": "FXVYou0DUWBS",
        "outputId": "ff49bdb1-f9e5-434d-a213-11c97ae30054"
      },
      "execution_count": 32,
      "outputs": [
        {
          "output_type": "stream",
          "name": "stdout",
          "text": [
            "Average price in Manhattan: 196.90\n",
            "Average price in other neighborhoods: 117.62\n",
            "t-statistic: 36.73\n",
            "p-value: 0.00\n",
            "Reject H0: There is a significant difference in the average rent rate of AirBnB property between Manhattan and other borough .\n"
          ]
        }
      ]
    },
    {
      "cell_type": "markdown",
      "source": [
        "# CONCLUSION "
      ],
      "metadata": {
        "id": "pz1x98LsEiuj"
      }
    },
    {
      "cell_type": "markdown",
      "source": [
        "Based on the analysis of the Airbnb dataset for New York City, we can draw the following conclusions:\n",
        "* The top 5 most favorite Airbnb listings in Brooklyn are dominated by entire homes/apartments, with one private room option. The most popular room type is private rooms, followed by entire apartment and shared rooms.\n",
        "* Based on the number of review, the busiest period of the year are happen during summer season which start in June until August\n",
        "* Looking at the most expensive Airbnb listings in each neighborhood, we can see that the most expensive listings are often entire homes/apartments located in affluent areas of the city, such as Riverdale in the Bronx, Fort Wadsworth in Staten Island, and Tribeca and Battery Park City in Manhattan.\n",
        "* The top 10 Host who own the property, are barely have property across the neighbourhood in New York City, but from the data we know that individual who hosts the most airbnb is Wonder (NYC)\n",
        "* The typical price range for Airbnb listings in New York City varies widely across neighborhoods, but the median price is around $106 per night. The most common price point is around $100 per night. The average listing price deviates from this point by about $152 per night.\n",
        "* Based on another two-sample t-test comparing Manhattan to other neighborhood groups, there is a significant difference in Airbnb listing prices between Manhattan and all other neighborhood groups in New York City. \n"
      ],
      "metadata": {
        "id": "tT_UAgP6f_ji"
      }
    }
  ]
}